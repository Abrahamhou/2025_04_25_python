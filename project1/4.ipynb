{
 "cells": [
  {
   "cell_type": "code",
   "execution_count": 2,
   "metadata": {},
   "outputs": [],
   "source": [
    "# =============================================================================\n",
    "# 步驟一：載入函式庫與設定環境\n",
    "# =============================================================================\n",
    "import pandas as pd\n",
    "import numpy as np\n",
    "import matplotlib.pyplot as plt\n",
    "import seaborn as sns\n",
    "from scipy import stats\n",
    "from sklearn.model_selection import train_test_split\n",
    "from sklearn.preprocessing import OneHotEncoder\n",
    "import lightgbm as lgb\n",
    "from sklearn.metrics import mean_absolute_error, r2_score\n",
    "\n",
    "# --- 設定 Matplotlib 顯示中文字體 ---\n",
    "# 確保您的系統有支援的字體，否則圖表標題可能會顯示亂碼\n",
    "try:\n",
    "    # For Windows\n",
    "    plt.rcParams['font.sans-serif'] = ['Microsoft JhengHei'] \n",
    "    plt.rcParams['axes.unicode_minus'] = False # 解決負號顯示問題\n",
    "except:\n",
    "    try:\n",
    "        # For Mac\n",
    "        plt.rcParams['font.sans-serif'] = ['Arial Unicode MS']\n",
    "        plt.rcParams['axes.unicode_minus'] = False\n",
    "    except:\n",
    "        print(\"未找到指定的中文字體，圖表標題可能無法正常顯示。\")"
   ]
  },
  {
   "cell_type": "code",
   "execution_count": 3,
   "metadata": {},
   "outputs": [
    {
     "name": "stdout",
     "output_type": "stream",
     "text": [
      "--- 資料清理開始 ---\n",
      "原始資料筆數: 5013\n"
     ]
    }
   ],
   "source": [
    "# =============================================================================\n",
    "# 步驟二：資料載入與清理 (Data Loading & Cleaning)\n",
    "# =============================================================================\n",
    "# 使用您提供的新檔名 'k04.csv'\n",
    "file_path = 'k04.csv' \n",
    "try:\n",
    "    # 嘗試用 utf-8-sig 來讀取，它可以處理帶有 BOM 的 UTF-8 檔案\n",
    "    df = pd.read_csv(file_path, encoding='utf-8-sig')\n",
    "except UnicodeDecodeError:\n",
    "    # 如果失敗，嘗試用 big5 編碼\n",
    "    df = pd.read_csv(file_path, encoding='big5')\n",
    "\n",
    "print(\"--- 資料清理開始 ---\")\n",
    "print(f\"原始資料筆數: {len(df)}\")"
   ]
  },
  {
   "cell_type": "code",
   "execution_count": 26,
   "metadata": {},
   "outputs": [],
   "source": [
    "# 1. 定義時間轉換函數\n",
    "def parse_time_to_seconds(time_str):\n",
    "    \"\"\"將 MM:SS 或 HH:MM:SS 格式的字串轉為總秒數，錯誤格式返回 None\"\"\"\n",
    "    try:\n",
    "        return pd.to_timedelta(time_str).total_seconds()\n",
    "    except (ValueError, TypeError):\n",
    "        return None\n",
    "# --------------------------------------------------------"
   ]
  },
  {
   "cell_type": "code",
   "execution_count": 27,
   "metadata": {},
   "outputs": [],
   "source": [
    "# 2. 應用函數，並建立新欄位 'TotalSeconds'\n",
    "df['TotalSeconds'] = df['Time2'].apply(parse_time_to_seconds)\n"
   ]
  },
  {
   "cell_type": "code",
   "execution_count": 28,
   "metadata": {},
   "outputs": [
    {
     "name": "stdout",
     "output_type": "stream",
     "text": [
      "下條件前清理前資料筆數: 5013\n"
     ]
    }
   ],
   "source": [
    "print(f\"下條件前清理前資料筆數: {len(df)}\")\n"
   ]
  },
  {
   "cell_type": "code",
   "execution_count": 31,
   "metadata": {},
   "outputs": [
    {
     "ename": "TypeError",
     "evalue": "object of type 'NoneType' has no len()",
     "output_type": "error",
     "traceback": [
      "\u001b[31m---------------------------------------------------------------------------\u001b[39m",
      "\u001b[31mTypeError\u001b[39m                                 Traceback (most recent call last)",
      "\u001b[36mCell\u001b[39m\u001b[36m \u001b[39m\u001b[32mIn[31]\u001b[39m\u001b[32m, line 3\u001b[39m\n\u001b[32m      1\u001b[39m \u001b[38;5;66;03m# 3. 移除轉換失敗的資料列 (TotalSeconds 是 NaT 或 None)\u001b[39;00m\n\u001b[32m      2\u001b[39m df = df.dropna(subset=[\u001b[33m'\u001b[39m\u001b[33mTotalSeconds\u001b[39m\u001b[33m'\u001b[39m], inplace=\u001b[38;5;28;01mTrue\u001b[39;00m)\n\u001b[32m----> \u001b[39m\u001b[32m3\u001b[39m \u001b[38;5;28mprint\u001b[39m(\u001b[33mf\u001b[39m\u001b[33m\"\u001b[39m\u001b[33m下條件清理前資料筆數: \u001b[39m\u001b[38;5;132;01m{\u001b[39;00m\u001b[38;5;28;43mlen\u001b[39;49m\u001b[43m(\u001b[49m\u001b[43mdf\u001b[49m\u001b[43m)\u001b[49m\u001b[38;5;132;01m}\u001b[39;00m\u001b[33m\"\u001b[39m)\n",
      "\u001b[31mTypeError\u001b[39m: object of type 'NoneType' has no len()"
     ]
    }
   ],
   "source": [
    "# 3. 移除轉換失敗的資料列 (TotalSeconds 是 NaT 或 None)\n",
    "df = df.dropna(subset=['TotalSeconds'], inplace=True)\n",
    "print(f\"下條件清理前資料筆數: {len(df)}\")"
   ]
  },
  {
   "cell_type": "code",
   "execution_count": 30,
   "metadata": {},
   "outputs": [
    {
     "name": "stdout",
     "output_type": "stream",
     "text": [
      "下條件清理前資料筆數: 0\n",
      "下條件前清理前資料筆數: 0\n"
     ]
    }
   ],
   "source": [
    "# 3. 移除轉換失敗的資料列 (TotalSeconds 是 NaT 或 None)\n",
    "df.dropna(subset=['TotalSeconds'], inplace=True)\n",
    "print(f\"下條件清理前資料筆數: {len(df)}\")\n",
    "\n",
    "df['TotalSeconds'] = df['TotalSeconds'].astype(int)\n",
    "print(f\"下條件前清理前資料筆數: {len(df)}\")\n"
   ]
  },
  {
   "cell_type": "code",
   "execution_count": 16,
   "metadata": {},
   "outputs": [
    {
     "name": "stdout",
     "output_type": "stream",
     "text": [
      "清理後剩餘資料筆數: 0\n"
     ]
    }
   ],
   "source": [
    "# 4. 移除不合理的極端值（騎乘時間小於3分鐘或大於60分鐘的資料）\n",
    "df = df[(df['TotalSeconds'] >= 180) & (df['TotalSeconds'] <= 3600)].copy()\n",
    "print(f\"清理後剩餘資料筆數: {len(df)}\")\n"
   ]
  },
  {
   "cell_type": "code",
   "execution_count": null,
   "metadata": {},
   "outputs": [
    {
     "name": "stdout",
     "output_type": "stream",
     "text": [
      "--- 資料清理開始 ---\n",
      "原始資料筆數: 5013\n",
      "清理後剩餘資料筆數: 0\n",
      "--- 資料清理完成 ---\n",
      "\n"
     ]
    }
   ],
   "source": [
    "# =============================================================================\n",
    "# 步驟二：資料載入與清理 (Data Loading & Cleaning)\n",
    "# =============================================================================\n",
    "# 使用您提供的新檔名 'k04.csv'\n",
    "file_path = 'k04.csv' \n",
    "try:\n",
    "    # 嘗試用 utf-8-sig 來讀取，它可以處理帶有 BOM 的 UTF-8 檔案\n",
    "    df = pd.read_csv(file_path, encoding='utf-8-sig')\n",
    "except UnicodeDecodeError:\n",
    "    # 如果失敗，嘗試用 big5 編碼\n",
    "    df = pd.read_csv(file_path, encoding='big5')\n",
    "\n",
    "print(\"--- 資料清理開始 ---\")\n",
    "print(f\"原始資料筆數: {len(df)}\")\n",
    "# ---------------------------------------------\n",
    "\n",
    "# --------------------------------------------------------\n",
    "\n",
    "# 1. 定義時間轉換函數\n",
    "def parse_time_to_seconds(time_str):\n",
    "    \"\"\"將 MM:SS 或 HH:MM:SS 格式的字串轉為總秒數，錯誤格式返回 None\"\"\"\n",
    "    try:\n",
    "        return pd.to_timedelta(time_str).total_seconds()\n",
    "    except (ValueError, TypeError):\n",
    "        return None\n",
    "# --------------------------------------------------------\n",
    "\n",
    "\n",
    "\n",
    "\n",
    "\n",
    "# 2. 應用函數，並建立新欄位 'TotalSeconds'\n",
    "df['TotalSeconds'] = df['Time2'].apply(parse_time_to_seconds)\n",
    "\n",
    "# 3. 移除轉換失敗的資料列 (TotalSeconds 是 NaT 或 None)\n",
    "df.dropna(subset=['TotalSeconds'], inplace=True)\n",
    "df['TotalSeconds'] = df['TotalSeconds'].astype(int)\n",
    "\n",
    "# 4. 移除不合理的極端值（騎乘時間小於3分鐘或大於60分鐘的資料）\n",
    "df = df[(df['TotalSeconds'] >= 180) & (df['TotalSeconds'] <= 3600)].copy()\n",
    "print(f\"清理後剩餘資料筆數: {len(df)}\")\n",
    "\n",
    "# 5. 處理日期與時間欄位\n",
    "df['Date'] = df['Date'].astype(str)\n",
    "df['Datetime'] = pd.to_datetime(df['Date'] + ' ' + df['Time1'], format='%Y%m%d %H:%M:%S')\n",
    "\n",
    "# 6. 標準化起點站 ('Stp1')\n",
    "def normalize_exit(stp_name):\n",
    "    stp_name = str(stp_name)\n",
    "    if '1號' in stp_name:\n",
    "        return 'Exit_1'\n",
    "    # 包含 '2號' 或 '_1' 的都視為2號出口\n",
    "    elif '2號' in stp_name or '_1' in stp_name:\n",
    "        return 'Exit_2'\n",
    "    else:\n",
    "        # 處理沒有標示出口的情況，暫且歸為2號\n",
    "        return 'Exit_2'\n",
    "\n",
    "df['StartExit'] = df['Stp1'].apply(normalize_exit)\n",
    "\n",
    "print(\"--- 資料清理完成 ---\\n\")\n"
   ]
  },
  {
   "cell_type": "code",
   "execution_count": null,
   "metadata": {},
   "outputs": [
    {
     "name": "stdout",
     "output_type": "stream",
     "text": [
      "--- 特徵工程開始 ---\n"
     ]
    },
    {
     "ename": "ValueError",
     "evalue": "Found array with 0 sample(s) (shape=(0,)) while a minimum of 1 is required.",
     "output_type": "error",
     "traceback": [
      "\u001b[31m---------------------------------------------------------------------------\u001b[39m",
      "\u001b[31mValueError\u001b[39m                                Traceback (most recent call last)",
      "\u001b[36mCell\u001b[39m\u001b[36m \u001b[39m\u001b[32mIn[8]\u001b[39m\u001b[32m, line 20\u001b[39m\n\u001b[32m     18\u001b[39m \u001b[38;5;66;03m# 3. (推薦作法) 使用 OneHotEncoder 處理類別特徵 'StartExit'\u001b[39;00m\n\u001b[32m     19\u001b[39m ohe = OneHotEncoder(handle_unknown=\u001b[33m'\u001b[39m\u001b[33mignore\u001b[39m\u001b[33m'\u001b[39m, sparse_output=\u001b[38;5;28;01mFalse\u001b[39;00m, dtype=\u001b[38;5;28mint\u001b[39m)\n\u001b[32m---> \u001b[39m\u001b[32m20\u001b[39m encoded_features = \u001b[43mohe\u001b[49m\u001b[43m.\u001b[49m\u001b[43mfit_transform\u001b[49m\u001b[43m(\u001b[49m\u001b[43mdf\u001b[49m\u001b[43m[\u001b[49m\u001b[43m[\u001b[49m\u001b[33;43m'\u001b[39;49m\u001b[33;43mStartExit\u001b[39;49m\u001b[33;43m'\u001b[39;49m\u001b[43m]\u001b[49m\u001b[43m]\u001b[49m\u001b[43m)\u001b[49m\n\u001b[32m     21\u001b[39m new_feature_names = ohe.get_feature_names_out([\u001b[33m'\u001b[39m\u001b[33mStartExit\u001b[39m\u001b[33m'\u001b[39m])\n\u001b[32m     22\u001b[39m encoded_df = pd.DataFrame(encoded_features, columns=new_feature_names, index=df.index)\n",
      "\u001b[36mFile \u001b[39m\u001b[32mc:\\Users\\user\\miniconda3\\envs\\flask\\Lib\\site-packages\\sklearn\\utils\\_set_output.py:316\u001b[39m, in \u001b[36m_wrap_method_output.<locals>.wrapped\u001b[39m\u001b[34m(self, X, *args, **kwargs)\u001b[39m\n\u001b[32m    314\u001b[39m \u001b[38;5;129m@wraps\u001b[39m(f)\n\u001b[32m    315\u001b[39m \u001b[38;5;28;01mdef\u001b[39;00m\u001b[38;5;250m \u001b[39m\u001b[34mwrapped\u001b[39m(\u001b[38;5;28mself\u001b[39m, X, *args, **kwargs):\n\u001b[32m--> \u001b[39m\u001b[32m316\u001b[39m     data_to_wrap = \u001b[43mf\u001b[49m\u001b[43m(\u001b[49m\u001b[38;5;28;43mself\u001b[39;49m\u001b[43m,\u001b[49m\u001b[43m \u001b[49m\u001b[43mX\u001b[49m\u001b[43m,\u001b[49m\u001b[43m \u001b[49m\u001b[43m*\u001b[49m\u001b[43margs\u001b[49m\u001b[43m,\u001b[49m\u001b[43m \u001b[49m\u001b[43m*\u001b[49m\u001b[43m*\u001b[49m\u001b[43mkwargs\u001b[49m\u001b[43m)\u001b[49m\n\u001b[32m    317\u001b[39m     \u001b[38;5;28;01mif\u001b[39;00m \u001b[38;5;28misinstance\u001b[39m(data_to_wrap, \u001b[38;5;28mtuple\u001b[39m):\n\u001b[32m    318\u001b[39m         \u001b[38;5;66;03m# only wrap the first output for cross decomposition\u001b[39;00m\n\u001b[32m    319\u001b[39m         return_tuple = (\n\u001b[32m    320\u001b[39m             _wrap_data_with_container(method, data_to_wrap[\u001b[32m0\u001b[39m], X, \u001b[38;5;28mself\u001b[39m),\n\u001b[32m    321\u001b[39m             *data_to_wrap[\u001b[32m1\u001b[39m:],\n\u001b[32m    322\u001b[39m         )\n",
      "\u001b[36mFile \u001b[39m\u001b[32mc:\\Users\\user\\miniconda3\\envs\\flask\\Lib\\site-packages\\sklearn\\base.py:892\u001b[39m, in \u001b[36mTransformerMixin.fit_transform\u001b[39m\u001b[34m(self, X, y, **fit_params)\u001b[39m\n\u001b[32m    877\u001b[39m         warnings.warn(\n\u001b[32m    878\u001b[39m             (\n\u001b[32m    879\u001b[39m                 \u001b[33mf\u001b[39m\u001b[33m\"\u001b[39m\u001b[33mThis object (\u001b[39m\u001b[38;5;132;01m{\u001b[39;00m\u001b[38;5;28mself\u001b[39m.\u001b[34m__class__\u001b[39m.\u001b[34m__name__\u001b[39m\u001b[38;5;132;01m}\u001b[39;00m\u001b[33m) has a `transform`\u001b[39m\u001b[33m\"\u001b[39m\n\u001b[32m   (...)\u001b[39m\u001b[32m    887\u001b[39m             \u001b[38;5;167;01mUserWarning\u001b[39;00m,\n\u001b[32m    888\u001b[39m         )\n\u001b[32m    890\u001b[39m \u001b[38;5;28;01mif\u001b[39;00m y \u001b[38;5;129;01mis\u001b[39;00m \u001b[38;5;28;01mNone\u001b[39;00m:\n\u001b[32m    891\u001b[39m     \u001b[38;5;66;03m# fit method of arity 1 (unsupervised transformation)\u001b[39;00m\n\u001b[32m--> \u001b[39m\u001b[32m892\u001b[39m     \u001b[38;5;28;01mreturn\u001b[39;00m \u001b[38;5;28;43mself\u001b[39;49m\u001b[43m.\u001b[49m\u001b[43mfit\u001b[49m\u001b[43m(\u001b[49m\u001b[43mX\u001b[49m\u001b[43m,\u001b[49m\u001b[43m \u001b[49m\u001b[43m*\u001b[49m\u001b[43m*\u001b[49m\u001b[43mfit_params\u001b[49m\u001b[43m)\u001b[49m.transform(X)\n\u001b[32m    893\u001b[39m \u001b[38;5;28;01melse\u001b[39;00m:\n\u001b[32m    894\u001b[39m     \u001b[38;5;66;03m# fit method of arity 2 (supervised transformation)\u001b[39;00m\n\u001b[32m    895\u001b[39m     \u001b[38;5;28;01mreturn\u001b[39;00m \u001b[38;5;28mself\u001b[39m.fit(X, y, **fit_params).transform(X)\n",
      "\u001b[36mFile \u001b[39m\u001b[32mc:\\Users\\user\\miniconda3\\envs\\flask\\Lib\\site-packages\\sklearn\\base.py:1363\u001b[39m, in \u001b[36m_fit_context.<locals>.decorator.<locals>.wrapper\u001b[39m\u001b[34m(estimator, *args, **kwargs)\u001b[39m\n\u001b[32m   1356\u001b[39m     estimator._validate_params()\n\u001b[32m   1358\u001b[39m \u001b[38;5;28;01mwith\u001b[39;00m config_context(\n\u001b[32m   1359\u001b[39m     skip_parameter_validation=(\n\u001b[32m   1360\u001b[39m         prefer_skip_nested_validation \u001b[38;5;129;01mor\u001b[39;00m global_skip_validation\n\u001b[32m   1361\u001b[39m     )\n\u001b[32m   1362\u001b[39m ):\n\u001b[32m-> \u001b[39m\u001b[32m1363\u001b[39m     \u001b[38;5;28;01mreturn\u001b[39;00m \u001b[43mfit_method\u001b[49m\u001b[43m(\u001b[49m\u001b[43mestimator\u001b[49m\u001b[43m,\u001b[49m\u001b[43m \u001b[49m\u001b[43m*\u001b[49m\u001b[43margs\u001b[49m\u001b[43m,\u001b[49m\u001b[43m \u001b[49m\u001b[43m*\u001b[49m\u001b[43m*\u001b[49m\u001b[43mkwargs\u001b[49m\u001b[43m)\u001b[49m\n",
      "\u001b[36mFile \u001b[39m\u001b[32mc:\\Users\\user\\miniconda3\\envs\\flask\\Lib\\site-packages\\sklearn\\preprocessing\\_encoders.py:991\u001b[39m, in \u001b[36mOneHotEncoder.fit\u001b[39m\u001b[34m(self, X, y)\u001b[39m\n\u001b[32m    972\u001b[39m \u001b[38;5;129m@_fit_context\u001b[39m(prefer_skip_nested_validation=\u001b[38;5;28;01mTrue\u001b[39;00m)\n\u001b[32m    973\u001b[39m \u001b[38;5;28;01mdef\u001b[39;00m\u001b[38;5;250m \u001b[39m\u001b[34mfit\u001b[39m(\u001b[38;5;28mself\u001b[39m, X, y=\u001b[38;5;28;01mNone\u001b[39;00m):\n\u001b[32m    974\u001b[39m \u001b[38;5;250m    \u001b[39m\u001b[33;03m\"\"\"\u001b[39;00m\n\u001b[32m    975\u001b[39m \u001b[33;03m    Fit OneHotEncoder to X.\u001b[39;00m\n\u001b[32m    976\u001b[39m \n\u001b[32m   (...)\u001b[39m\u001b[32m    989\u001b[39m \u001b[33;03m        Fitted encoder.\u001b[39;00m\n\u001b[32m    990\u001b[39m \u001b[33;03m    \"\"\"\u001b[39;00m\n\u001b[32m--> \u001b[39m\u001b[32m991\u001b[39m     \u001b[38;5;28;43mself\u001b[39;49m\u001b[43m.\u001b[49m\u001b[43m_fit\u001b[49m\u001b[43m(\u001b[49m\n\u001b[32m    992\u001b[39m \u001b[43m        \u001b[49m\u001b[43mX\u001b[49m\u001b[43m,\u001b[49m\n\u001b[32m    993\u001b[39m \u001b[43m        \u001b[49m\u001b[43mhandle_unknown\u001b[49m\u001b[43m=\u001b[49m\u001b[38;5;28;43mself\u001b[39;49m\u001b[43m.\u001b[49m\u001b[43mhandle_unknown\u001b[49m\u001b[43m,\u001b[49m\n\u001b[32m    994\u001b[39m \u001b[43m        \u001b[49m\u001b[43mensure_all_finite\u001b[49m\u001b[43m=\u001b[49m\u001b[33;43m\"\u001b[39;49m\u001b[33;43mallow-nan\u001b[39;49m\u001b[33;43m\"\u001b[39;49m\u001b[43m,\u001b[49m\n\u001b[32m    995\u001b[39m \u001b[43m    \u001b[49m\u001b[43m)\u001b[49m\n\u001b[32m    996\u001b[39m     \u001b[38;5;28mself\u001b[39m._set_drop_idx()\n\u001b[32m    997\u001b[39m     \u001b[38;5;28mself\u001b[39m._n_features_outs = \u001b[38;5;28mself\u001b[39m._compute_n_features_outs()\n",
      "\u001b[36mFile \u001b[39m\u001b[32mc:\\Users\\user\\miniconda3\\envs\\flask\\Lib\\site-packages\\sklearn\\preprocessing\\_encoders.py:83\u001b[39m, in \u001b[36m_BaseEncoder._fit\u001b[39m\u001b[34m(self, X, handle_unknown, ensure_all_finite, return_counts, return_and_ignore_missing_for_infrequent)\u001b[39m\n\u001b[32m     81\u001b[39m _check_n_features(\u001b[38;5;28mself\u001b[39m, X, reset=\u001b[38;5;28;01mTrue\u001b[39;00m)\n\u001b[32m     82\u001b[39m _check_feature_names(\u001b[38;5;28mself\u001b[39m, X, reset=\u001b[38;5;28;01mTrue\u001b[39;00m)\n\u001b[32m---> \u001b[39m\u001b[32m83\u001b[39m X_list, n_samples, n_features = \u001b[38;5;28;43mself\u001b[39;49m\u001b[43m.\u001b[49m\u001b[43m_check_X\u001b[49m\u001b[43m(\u001b[49m\n\u001b[32m     84\u001b[39m \u001b[43m    \u001b[49m\u001b[43mX\u001b[49m\u001b[43m,\u001b[49m\u001b[43m \u001b[49m\u001b[43mensure_all_finite\u001b[49m\u001b[43m=\u001b[49m\u001b[43mensure_all_finite\u001b[49m\n\u001b[32m     85\u001b[39m \u001b[43m\u001b[49m\u001b[43m)\u001b[49m\n\u001b[32m     86\u001b[39m \u001b[38;5;28mself\u001b[39m.n_features_in_ = n_features\n\u001b[32m     88\u001b[39m \u001b[38;5;28;01mif\u001b[39;00m \u001b[38;5;28mself\u001b[39m.categories != \u001b[33m\"\u001b[39m\u001b[33mauto\u001b[39m\u001b[33m\"\u001b[39m:\n",
      "\u001b[36mFile \u001b[39m\u001b[32mc:\\Users\\user\\miniconda3\\envs\\flask\\Lib\\site-packages\\sklearn\\preprocessing\\_encoders.py:65\u001b[39m, in \u001b[36m_BaseEncoder._check_X\u001b[39m\u001b[34m(self, X, ensure_all_finite)\u001b[39m\n\u001b[32m     63\u001b[39m \u001b[38;5;28;01mfor\u001b[39;00m i \u001b[38;5;129;01min\u001b[39;00m \u001b[38;5;28mrange\u001b[39m(n_features):\n\u001b[32m     64\u001b[39m     Xi = _safe_indexing(X, indices=i, axis=\u001b[32m1\u001b[39m)\n\u001b[32m---> \u001b[39m\u001b[32m65\u001b[39m     Xi = \u001b[43mcheck_array\u001b[49m\u001b[43m(\u001b[49m\n\u001b[32m     66\u001b[39m \u001b[43m        \u001b[49m\u001b[43mXi\u001b[49m\u001b[43m,\u001b[49m\u001b[43m \u001b[49m\u001b[43mensure_2d\u001b[49m\u001b[43m=\u001b[49m\u001b[38;5;28;43;01mFalse\u001b[39;49;00m\u001b[43m,\u001b[49m\u001b[43m \u001b[49m\u001b[43mdtype\u001b[49m\u001b[43m=\u001b[49m\u001b[38;5;28;43;01mNone\u001b[39;49;00m\u001b[43m,\u001b[49m\u001b[43m \u001b[49m\u001b[43mensure_all_finite\u001b[49m\u001b[43m=\u001b[49m\u001b[43mneeds_validation\u001b[49m\n\u001b[32m     67\u001b[39m \u001b[43m    \u001b[49m\u001b[43m)\u001b[49m\n\u001b[32m     68\u001b[39m     X_columns.append(Xi)\n\u001b[32m     70\u001b[39m \u001b[38;5;28;01mreturn\u001b[39;00m X_columns, n_samples, n_features\n",
      "\u001b[36mFile \u001b[39m\u001b[32mc:\\Users\\user\\miniconda3\\envs\\flask\\Lib\\site-packages\\sklearn\\utils\\validation.py:1128\u001b[39m, in \u001b[36mcheck_array\u001b[39m\u001b[34m(array, accept_sparse, accept_large_sparse, dtype, order, copy, force_writeable, force_all_finite, ensure_all_finite, ensure_non_negative, ensure_2d, allow_nd, ensure_min_samples, ensure_min_features, estimator, input_name)\u001b[39m\n\u001b[32m   1126\u001b[39m     n_samples = _num_samples(array)\n\u001b[32m   1127\u001b[39m     \u001b[38;5;28;01mif\u001b[39;00m n_samples < ensure_min_samples:\n\u001b[32m-> \u001b[39m\u001b[32m1128\u001b[39m         \u001b[38;5;28;01mraise\u001b[39;00m \u001b[38;5;167;01mValueError\u001b[39;00m(\n\u001b[32m   1129\u001b[39m             \u001b[33m\"\u001b[39m\u001b[33mFound array with \u001b[39m\u001b[38;5;132;01m%d\u001b[39;00m\u001b[33m sample(s) (shape=\u001b[39m\u001b[38;5;132;01m%s\u001b[39;00m\u001b[33m) while a\u001b[39m\u001b[33m\"\u001b[39m\n\u001b[32m   1130\u001b[39m             \u001b[33m\"\u001b[39m\u001b[33m minimum of \u001b[39m\u001b[38;5;132;01m%d\u001b[39;00m\u001b[33m is required\u001b[39m\u001b[38;5;132;01m%s\u001b[39;00m\u001b[33m.\u001b[39m\u001b[33m\"\u001b[39m\n\u001b[32m   1131\u001b[39m             % (n_samples, array.shape, ensure_min_samples, context)\n\u001b[32m   1132\u001b[39m         )\n\u001b[32m   1134\u001b[39m \u001b[38;5;28;01mif\u001b[39;00m ensure_min_features > \u001b[32m0\u001b[39m \u001b[38;5;129;01mand\u001b[39;00m array.ndim == \u001b[32m2\u001b[39m:\n\u001b[32m   1135\u001b[39m     n_features = array.shape[\u001b[32m1\u001b[39m]\n",
      "\u001b[31mValueError\u001b[39m: Found array with 0 sample(s) (shape=(0,)) while a minimum of 1 is required."
     ]
    }
   ],
   "source": [
    "# =============================================================================\n",
    "# 步驟三：特徵工程 (Feature Engineering)\n",
    "# =============================================================================\n",
    "print(\"--- 特徵工程開始 ---\")\n",
    "# 1. 從 'Datetime' 欄位中提取時間特徵\n",
    "df['Hour'] = df['Datetime'].dt.hour\n",
    "df['DayOfWeek'] = df['Datetime'].dt.dayofweek  # 星期一=0, 星期日=6\n",
    "df['Month'] = df['Datetime'].dt.month\n",
    "df['IsWeekend'] = df['DayOfWeek'].apply(lambda x: 1 if x >= 5 else 0)\n",
    "\n",
    "# 2. 建立尖峰時段特徵\n",
    "def is_rush_hour(hour):\n",
    "    if (7 <= hour <= 9) or (17 <= hour <= 19):\n",
    "        return 1\n",
    "    return 0\n",
    "df['IsRushHour'] = df['Hour'].apply(is_rush_hour)\n",
    "\n",
    "# 3. (推薦作法) 使用 OneHotEncoder 處理類別特徵 'StartExit'\n",
    "ohe = OneHotEncoder(handle_unknown='ignore', sparse_output=False, dtype=int)\n",
    "encoded_features = ohe.fit_transform(df[['StartExit']])\n",
    "new_feature_names = ohe.get_feature_names_out(['StartExit'])\n",
    "encoded_df = pd.DataFrame(encoded_features, columns=new_feature_names, index=df.index)\n",
    "\n",
    "# 4. 將編碼後的新欄位合併回原 DataFrame，並移除舊的類別欄位\n",
    "df = pd.concat([df, encoded_df], axis=1)\n",
    "df.drop(['Stp1', 'StartExit'], axis=1, inplace=True) # 順便移除原始的 Stp1\n",
    "\n",
    "print(\"--- 特徵工程完成 ---\\n\")\n",
    "\n"
   ]
  },
  {
   "cell_type": "code",
   "execution_count": 4,
   "metadata": {},
   "outputs": [
    {
     "ename": "KeyError",
     "evalue": "'Datetime'",
     "output_type": "error",
     "traceback": [
      "\u001b[1;31m---------------------------------------------------------------------------\u001b[0m",
      "\u001b[1;31mKeyError\u001b[0m                                  Traceback (most recent call last)",
      "File \u001b[1;32mc:\\Users\\abrah\\miniconda3\\envs\\flask\\lib\\site-packages\\pandas\\core\\indexes\\base.py:3812\u001b[0m, in \u001b[0;36mIndex.get_loc\u001b[1;34m(self, key)\u001b[0m\n\u001b[0;32m   3811\u001b[0m \u001b[38;5;28;01mtry\u001b[39;00m:\n\u001b[1;32m-> 3812\u001b[0m     \u001b[38;5;28;01mreturn\u001b[39;00m \u001b[38;5;28;43mself\u001b[39;49m\u001b[38;5;241;43m.\u001b[39;49m\u001b[43m_engine\u001b[49m\u001b[38;5;241;43m.\u001b[39;49m\u001b[43mget_loc\u001b[49m\u001b[43m(\u001b[49m\u001b[43mcasted_key\u001b[49m\u001b[43m)\u001b[49m\n\u001b[0;32m   3813\u001b[0m \u001b[38;5;28;01mexcept\u001b[39;00m \u001b[38;5;167;01mKeyError\u001b[39;00m \u001b[38;5;28;01mas\u001b[39;00m err:\n",
      "File \u001b[1;32mpandas/_libs/index.pyx:167\u001b[0m, in \u001b[0;36mpandas._libs.index.IndexEngine.get_loc\u001b[1;34m()\u001b[0m\n",
      "File \u001b[1;32mpandas/_libs/index.pyx:196\u001b[0m, in \u001b[0;36mpandas._libs.index.IndexEngine.get_loc\u001b[1;34m()\u001b[0m\n",
      "File \u001b[1;32mpandas/_libs/hashtable_class_helper.pxi:7088\u001b[0m, in \u001b[0;36mpandas._libs.hashtable.PyObjectHashTable.get_item\u001b[1;34m()\u001b[0m\n",
      "File \u001b[1;32mpandas/_libs/hashtable_class_helper.pxi:7096\u001b[0m, in \u001b[0;36mpandas._libs.hashtable.PyObjectHashTable.get_item\u001b[1;34m()\u001b[0m\n",
      "\u001b[1;31mKeyError\u001b[0m: 'Datetime'",
      "\nThe above exception was the direct cause of the following exception:\n",
      "\u001b[1;31mKeyError\u001b[0m                                  Traceback (most recent call last)",
      "Cell \u001b[1;32mIn[4], line 6\u001b[0m\n\u001b[0;32m      1\u001b[0m \u001b[38;5;28;01mfrom\u001b[39;00m\u001b[38;5;250m \u001b[39m\u001b[38;5;21;01msklearn\u001b[39;00m\u001b[38;5;21;01m.\u001b[39;00m\u001b[38;5;21;01mpreprocessing\u001b[39;00m\u001b[38;5;250m \u001b[39m\u001b[38;5;28;01mimport\u001b[39;00m OneHotEncoder\n\u001b[0;32m      3\u001b[0m \u001b[38;5;66;03m# --- Step 3: 特徵工程 (修正版) ---\u001b[39;00m\n\u001b[0;32m      4\u001b[0m \n\u001b[0;32m      5\u001b[0m \u001b[38;5;66;03m# 從 'Datetime' 欄位中提取更多特徵\u001b[39;00m\n\u001b[1;32m----> 6\u001b[0m df[\u001b[38;5;124m'\u001b[39m\u001b[38;5;124mHour\u001b[39m\u001b[38;5;124m'\u001b[39m] \u001b[38;5;241m=\u001b[39m \u001b[43mdf\u001b[49m\u001b[43m[\u001b[49m\u001b[38;5;124;43m'\u001b[39;49m\u001b[38;5;124;43mDatetime\u001b[39;49m\u001b[38;5;124;43m'\u001b[39;49m\u001b[43m]\u001b[49m\u001b[38;5;241m.\u001b[39mdt\u001b[38;5;241m.\u001b[39mhour\n\u001b[0;32m      7\u001b[0m df[\u001b[38;5;124m'\u001b[39m\u001b[38;5;124mDayOfWeek\u001b[39m\u001b[38;5;124m'\u001b[39m] \u001b[38;5;241m=\u001b[39m df[\u001b[38;5;124m'\u001b[39m\u001b[38;5;124mDatetime\u001b[39m\u001b[38;5;124m'\u001b[39m]\u001b[38;5;241m.\u001b[39mdt\u001b[38;5;241m.\u001b[39mdayofweek  \u001b[38;5;66;03m# 星期一=0, 星期日=6\u001b[39;00m\n\u001b[0;32m      8\u001b[0m df[\u001b[38;5;124m'\u001b[39m\u001b[38;5;124mMonth\u001b[39m\u001b[38;5;124m'\u001b[39m] \u001b[38;5;241m=\u001b[39m df[\u001b[38;5;124m'\u001b[39m\u001b[38;5;124mDatetime\u001b[39m\u001b[38;5;124m'\u001b[39m]\u001b[38;5;241m.\u001b[39mdt\u001b[38;5;241m.\u001b[39mmonth\n",
      "File \u001b[1;32mc:\\Users\\abrah\\miniconda3\\envs\\flask\\lib\\site-packages\\pandas\\core\\frame.py:4107\u001b[0m, in \u001b[0;36mDataFrame.__getitem__\u001b[1;34m(self, key)\u001b[0m\n\u001b[0;32m   4105\u001b[0m \u001b[38;5;28;01mif\u001b[39;00m \u001b[38;5;28mself\u001b[39m\u001b[38;5;241m.\u001b[39mcolumns\u001b[38;5;241m.\u001b[39mnlevels \u001b[38;5;241m>\u001b[39m \u001b[38;5;241m1\u001b[39m:\n\u001b[0;32m   4106\u001b[0m     \u001b[38;5;28;01mreturn\u001b[39;00m \u001b[38;5;28mself\u001b[39m\u001b[38;5;241m.\u001b[39m_getitem_multilevel(key)\n\u001b[1;32m-> 4107\u001b[0m indexer \u001b[38;5;241m=\u001b[39m \u001b[38;5;28;43mself\u001b[39;49m\u001b[38;5;241;43m.\u001b[39;49m\u001b[43mcolumns\u001b[49m\u001b[38;5;241;43m.\u001b[39;49m\u001b[43mget_loc\u001b[49m\u001b[43m(\u001b[49m\u001b[43mkey\u001b[49m\u001b[43m)\u001b[49m\n\u001b[0;32m   4108\u001b[0m \u001b[38;5;28;01mif\u001b[39;00m is_integer(indexer):\n\u001b[0;32m   4109\u001b[0m     indexer \u001b[38;5;241m=\u001b[39m [indexer]\n",
      "File \u001b[1;32mc:\\Users\\abrah\\miniconda3\\envs\\flask\\lib\\site-packages\\pandas\\core\\indexes\\base.py:3819\u001b[0m, in \u001b[0;36mIndex.get_loc\u001b[1;34m(self, key)\u001b[0m\n\u001b[0;32m   3814\u001b[0m     \u001b[38;5;28;01mif\u001b[39;00m \u001b[38;5;28misinstance\u001b[39m(casted_key, \u001b[38;5;28mslice\u001b[39m) \u001b[38;5;129;01mor\u001b[39;00m (\n\u001b[0;32m   3815\u001b[0m         \u001b[38;5;28misinstance\u001b[39m(casted_key, abc\u001b[38;5;241m.\u001b[39mIterable)\n\u001b[0;32m   3816\u001b[0m         \u001b[38;5;129;01mand\u001b[39;00m \u001b[38;5;28many\u001b[39m(\u001b[38;5;28misinstance\u001b[39m(x, \u001b[38;5;28mslice\u001b[39m) \u001b[38;5;28;01mfor\u001b[39;00m x \u001b[38;5;129;01min\u001b[39;00m casted_key)\n\u001b[0;32m   3817\u001b[0m     ):\n\u001b[0;32m   3818\u001b[0m         \u001b[38;5;28;01mraise\u001b[39;00m InvalidIndexError(key)\n\u001b[1;32m-> 3819\u001b[0m     \u001b[38;5;28;01mraise\u001b[39;00m \u001b[38;5;167;01mKeyError\u001b[39;00m(key) \u001b[38;5;28;01mfrom\u001b[39;00m\u001b[38;5;250m \u001b[39m\u001b[38;5;21;01merr\u001b[39;00m\n\u001b[0;32m   3820\u001b[0m \u001b[38;5;28;01mexcept\u001b[39;00m \u001b[38;5;167;01mTypeError\u001b[39;00m:\n\u001b[0;32m   3821\u001b[0m     \u001b[38;5;66;03m# If we have a listlike key, _check_indexing_error will raise\u001b[39;00m\n\u001b[0;32m   3822\u001b[0m     \u001b[38;5;66;03m#  InvalidIndexError. Otherwise we fall through and re-raise\u001b[39;00m\n\u001b[0;32m   3823\u001b[0m     \u001b[38;5;66;03m#  the TypeError.\u001b[39;00m\n\u001b[0;32m   3824\u001b[0m     \u001b[38;5;28mself\u001b[39m\u001b[38;5;241m.\u001b[39m_check_indexing_error(key)\n",
      "\u001b[1;31mKeyError\u001b[0m: 'Datetime'"
     ]
    }
   ],
   "source": [
    "from sklearn.preprocessing import OneHotEncoder\n",
    "\n",
    "# --- Step 3: 特徵工程 (修正版) ---\n",
    "\n",
    "# 從 'Datetime' 欄位中提取更多特徵\n",
    "df['Hour'] = df['Datetime'].dt.hour\n",
    "df['DayOfWeek'] = df['Datetime'].dt.dayofweek  # 星期一=0, 星期日=6\n",
    "df['Month'] = df['Datetime'].dt.month\n",
    "df['IsWeekend'] = df['DayOfWeek'].apply(lambda x: 1 if x >= 5 else 0)\n",
    "\n",
    "# 建立尖峰時段特徵\n",
    "def is_rush_hour(hour):\n",
    "    if (7 <= hour <= 9) or (17 <= hour <= 19):\n",
    "        return 1\n",
    "    return 0\n",
    "df['IsRushHour'] = df['Hour'].apply(is_rush_hour)\n",
    "\n",
    "# --- 使用 OneHotEncoder 處理 'StartExit' ---\n",
    "# 1. 實例化 OneHotEncoder\n",
    "#    handle_unknown='ignore' 可以在未來預測時忽略未見過的類別\n",
    "#    sparse_output=False 讓它直接輸出 numpy array 而不是稀疏矩陣\n",
    "ohe = OneHotEncoder(handle_unknown='ignore', sparse_output=False)\n",
    "\n",
    "# 2. Fit and transform the 'StartExit' column\n",
    "#    需要將 df[['StartExit']] 轉為 2D array\n",
    "encoded_features = ohe.fit_transform(df[['StartExit']])\n",
    "\n",
    "# 3. 獲取新欄位的名稱 (例如 'StartExit_Exit_1', 'StartExit_Exit_2')\n",
    "new_feature_names = ohe.get_feature_names_out(['StartExit'])\n",
    "\n",
    "# 4. 將編碼後的特徵轉換為 DataFrame\n",
    "encoded_df = pd.DataFrame(encoded_features, columns=new_feature_names, index=df.index)\n",
    "\n",
    "# 5. 將新的編碼欄位合併回原始 DataFrame，並刪除舊的 'StartExit'\n",
    "df = pd.concat([df, encoded_df], axis=1)\n",
    "df.drop('StartExit', axis=1, inplace=True)\n",
    "\n",
    "\n",
    "# --- 檢視我們建立好的特徵 ---\n",
    "# 由於欄位名稱改變了，我們也更新一下要顯示的列表\n",
    "print(\"\\n最終用於建模的特徵欄位預覽：\")\n",
    "features_to_show = ['TotalSeconds', 'Hour', 'DayOfWeek', 'IsWeekend', 'IsRushHour'] + list(new_feature_names)\n",
    "print(df[features_to_show].head())\n",
    "\n",
    "# --- 更新後續訓練時使用的特徵列表 ---\n",
    "# 在 Step 4 中，features 列表也需要更新\n",
    "features = ['Hour', 'DayOfWeek', 'Month', 'IsWeekend', 'IsRushHour'] + list(new_feature_names)\n",
    "print(\"\\n用於訓練的特徵:\", features)"
   ]
  }
 ],
 "metadata": {
  "kernelspec": {
   "display_name": "flask",
   "language": "python",
   "name": "python3"
  },
  "language_info": {
   "codemirror_mode": {
    "name": "ipython",
    "version": 3
   },
   "file_extension": ".py",
   "mimetype": "text/x-python",
   "name": "python",
   "nbconvert_exporter": "python",
   "pygments_lexer": "ipython3",
   "version": "3.10.16"
  }
 },
 "nbformat": 4,
 "nbformat_minor": 2
}
