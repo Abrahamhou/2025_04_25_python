{
 "cells": [
  {
   "cell_type": "code",
   "execution_count": 26,
   "metadata": {},
   "outputs": [
    {
     "name": "stdout",
     "output_type": "stream",
     "text": [
      "資料前五筆：\n",
      "       Date  Week     Time1 AM/PM           Stp1          Stp2  Time2  \\\n",
      "0  20230101     7  04:00:00    AM  捷運芝山站(2號出口)_1  臺北市立大學(天母校區)  16:07   \n",
      "1  20230101     7  05:00:00    AM    捷運芝山站(2號出口)  臺北市立大學(天母校區)  21:22   \n",
      "2  20230101     7  08:00:00    AM  捷運芝山站(2號出口)_1  臺北市立大學(天母校區)  09:39   \n",
      "3  20230101     7  12:00:00    PM  捷運芝山站(2號出口)_1  臺北市立大學(天母校區)  12:06   \n",
      "4  20230101     7  12:00:00    PM  捷運芝山站(2號出口)_1  臺北市立大學(天母校區)  10:59   \n",
      "\n",
      "   Unnamed: 7  \n",
      "0         NaN  \n",
      "1         NaN  \n",
      "2         NaN  \n",
      "3         NaN  \n",
      "4         NaN  \n",
      "\n",
      "資料基本資訊：\n",
      "<class 'pandas.core.frame.DataFrame'>\n",
      "RangeIndex: 5016 entries, 0 to 5015\n",
      "Data columns (total 8 columns):\n",
      " #   Column      Non-Null Count  Dtype  \n",
      "---  ------      --------------  -----  \n",
      " 0   Date        5016 non-null   int64  \n",
      " 1   Week        5016 non-null   int64  \n",
      " 2   Time1       5016 non-null   object \n",
      " 3   AM/PM       5016 non-null   object \n",
      " 4   Stp1        5016 non-null   object \n",
      " 5   Stp2        5016 non-null   object \n",
      " 6   Time2       5016 non-null   object \n",
      " 7   Unnamed: 7  0 non-null      float64\n",
      "dtypes: float64(1), int64(2), object(5)\n",
      "memory usage: 313.6+ KB\n",
      "\n",
      "起點站 (Stp1) 的唯一值：\n",
      "['捷運芝山站(2號出口)_1' '捷運芝山站(2號出口)' '捷運芝山站(1號出口)']\n",
      "\n",
      "騎乘時間 (Time2) 的一些範例值：\n",
      "['16:07' '21:22' '09:39' '12:06' '10:59' '11:13' '12:54' '08:54' '10:19'\n",
      " '11:10']\n"
     ]
    }
   ],
   "source": [
    "import pandas as pd\n",
    "import matplotlib.pyplot as plt\n",
    "import seaborn as sns\n",
    "\n",
    "# 設定 Matplotlib 顯示中文字體 (請根據您的作業系統選擇字體)\n",
    "# For Windows\n",
    "# plt.rcParams['font.sans-serif'] = ['Microsoft JhengHei'] \n",
    "# For Mac\n",
    "plt.rcParams['font.sans-serif'] = ['Arial Unicode MS']\n",
    "plt.rcParams['axes.unicode_minus'] = False # 解決負號顯示問題\n",
    "\n",
    "\n",
    "# --- 載入資料 ---\n",
    "# 提示：如果檔案路徑或名稱有中文，建議在前面加上 u\n",
    "file_path = u'2023資料剖析後內容1~8月芝山到天母0609整理二版.csv' \n",
    "try:\n",
    "    # 嘗試用 utf-8-sig 來讀取，它可以處理帶有 BOM 的 UTF-8 檔案\n",
    "    df = pd.read_csv(file_path, encoding='utf-8-sig')\n",
    "except UnicodeDecodeError:\n",
    "    # 如果失敗，嘗試用 big5 編碼\n",
    "    df = pd.read_csv(file_path, encoding='big5')\n",
    "\n",
    "\n",
    "# --- 初步探索 ---\n",
    "print(\"資料前五筆：\")\n",
    "print(df.head())\n",
    "print(\"\\n資料基本資訊：\")\n",
    "df.info()\n",
    "\n",
    "# 觀察 'Stp1' 和 'Time2' 的唯一值\n",
    "print(\"\\n起點站 (Stp1) 的唯一值：\")\n",
    "print(df['Stp1'].unique())\n",
    "\n",
    "print(\"\\n騎乘時間 (Time2) 的一些範例值：\")\n",
    "print(df['Time2'].unique()[:10])\n"
   ]
  },
  {
   "cell_type": "code",
   "execution_count": 3,
   "metadata": {},
   "outputs": [
    {
     "name": "stdout",
     "output_type": "stream",
     "text": [
      "移除了 5014 筆無法解析時間的資料。\n",
      "移除了 1 筆騎乘時間極端的資料。\n",
      "\n",
      "清理後的時間資料分佈：\n",
      "count    0.0\n",
      "mean     NaN\n",
      "std      NaN\n",
      "min      NaN\n",
      "25%      NaN\n",
      "50%      NaN\n",
      "75%      NaN\n",
      "max      NaN\n",
      "Name: TotalSeconds, dtype: float64\n"
     ]
    }
   ],
   "source": [
    "# 移除最後一行的文字說明\n",
    "df = df.iloc[:-1].copy()\n",
    "\n",
    "def parse_time_to_seconds(time_str):\n",
    "    \"\"\"將 MM:SS 或 HH:MM:SS 格式的字串轉為總秒數，錯誤格式返回 None\"\"\"\n",
    "    try:\n",
    "        # pd.to_timedelta 可以處理多種時間格式\n",
    "        # 我們強制單位為秒，並取其總秒數\n",
    "        return pd.to_timedelta(time_str).total_seconds()\n",
    "    except (ValueError, TypeError):\n",
    "        # 如果格式錯誤或值為空，返回 None\n",
    "        return None\n",
    "\n",
    "# 應用函數，並建立新欄位 'TotalSeconds'\n",
    "df['TotalSeconds'] = df['Time2'].apply(parse_time_to_seconds)\n",
    "\n",
    "# --- 清理轉換後的資料 ---\n",
    "# 移除轉換失敗的資料列 (TotalSeconds 是 NaT 或 None)\n",
    "original_rows = len(df)\n",
    "df.dropna(subset=['TotalSeconds'], inplace=True)\n",
    "print(f\"移除了 {original_rows - len(df)} 筆無法解析時間的資料。\")\n",
    "\n",
    "# 將秒數轉為整數\n",
    "df['TotalSeconds'] = df['TotalSeconds'].astype(int)\n",
    "\n",
    "# --- 處理極端值 ---\n",
    "# 騎乘時間少於 3 分鐘 (180秒) 或多於 60 分鐘 (3600秒) 可能有問題，先移除\n",
    "original_rows = len(df)\n",
    "df = df[(df['TotalSeconds'] >= 180) & (df['TotalSeconds'] <= 3600)]\n",
    "print(f\"移除了 {original_rows - len(df)} 筆騎乘時間極端的資料。\")\n",
    "\n",
    "print(\"\\n清理後的時間資料分佈：\")\n",
    "print(df['TotalSeconds'].describe())"
   ]
  },
  {
   "cell_type": "code",
   "execution_count": 4,
   "metadata": {},
   "outputs": [
    {
     "name": "stdout",
     "output_type": "stream",
     "text": [
      "\n",
      "轉換後的日期時間欄位：\n",
      "Empty DataFrame\n",
      "Columns: [Date, Time1, Datetime]\n",
      "Index: []\n"
     ]
    }
   ],
   "source": [
    "# 將 Date 轉為字串格式\n",
    "df['Date'] = df['Date'].astype(str)\n",
    "\n",
    "# 合併 Date 和 Time1 欄位\n",
    "df['Datetime'] = pd.to_datetime(df['Date'] + ' ' + df['Time1'], format='%Y%m%d %H:%M:%S')\n",
    "\n",
    "print(\"\\n轉換後的日期時間欄位：\")\n",
    "print(df[['Date', 'Time1', 'Datetime']].head())"
   ]
  },
  {
   "cell_type": "code",
   "execution_count": 11,
   "metadata": {},
   "outputs": [
    {
     "name": "stdout",
     "output_type": "stream",
     "text": [
      "\n",
      "標準化後的出口欄位：\n",
      "Series([], Name: count, dtype: int64)\n"
     ]
    }
   ],
   "source": [
    "def normalize_exit(stp_name):\n",
    "    if '1號' in str(stp_name):\n",
    "        return 'Exit_1'\n",
    "    else:\n",
    "        return 'Exit_2'\n",
    "\n",
    "df['StartExit'] = df['Stp1'].apply(normalize_exit)\n",
    "\n",
    "print(\"\\n標準化後的出口欄位：\")\n",
    "print(df['StartExit'].value_counts())"
   ]
  },
  {
   "cell_type": "code",
   "execution_count": 17,
   "metadata": {},
   "outputs": [
    {
     "name": "stdout",
     "output_type": "stream",
     "text": [
      "目前的 df 欄位列表：\n",
      "Index(['Date', 'Week', 'Time1', 'AM/PM', 'Stp1', 'Stp2', 'Time2', 'Unnamed: 7',\n",
      "       'TotalSeconds', 'Datetime', 'Hour', 'DayOfWeek', 'Month', 'IsWeekend',\n",
      "       'IsRushHour'],\n",
      "      dtype='object')\n",
      "\n",
      "[錯誤] 'StartExit' 欄位不存在！請重啟核心並從頭執行。\n"
     ]
    }
   ],
   "source": [
    "print(\"目前的 df 欄位列表：\")\n",
    "print(df.columns)\n",
    "\n",
    "# 檢查 'StartExit' 是否存在\n",
    "if 'StartExit' in df.columns:\n",
    "    print(\"\\n[成功] 'StartExit' 欄位存在於 DataFrame 中。\")\n",
    "else:\n",
    "    print(\"\\n[錯誤] 'StartExit' 欄位不存在！請重啟核心並從頭執行。\")"
   ]
  },
  {
   "cell_type": "code",
   "execution_count": 19,
   "metadata": {},
   "outputs": [
    {
     "ename": "KeyError",
     "evalue": "'Datetime'",
     "output_type": "error",
     "traceback": [
      "\u001b[31m---------------------------------------------------------------------------\u001b[39m",
      "\u001b[31mKeyError\u001b[39m                                  Traceback (most recent call last)",
      "\u001b[36mFile \u001b[39m\u001b[32mc:\\Users\\user\\miniconda3\\envs\\flask\\Lib\\site-packages\\pandas\\core\\indexes\\base.py:3812\u001b[39m, in \u001b[36mIndex.get_loc\u001b[39m\u001b[34m(self, key)\u001b[39m\n\u001b[32m   3811\u001b[39m \u001b[38;5;28;01mtry\u001b[39;00m:\n\u001b[32m-> \u001b[39m\u001b[32m3812\u001b[39m     \u001b[38;5;28;01mreturn\u001b[39;00m \u001b[38;5;28;43mself\u001b[39;49m\u001b[43m.\u001b[49m\u001b[43m_engine\u001b[49m\u001b[43m.\u001b[49m\u001b[43mget_loc\u001b[49m\u001b[43m(\u001b[49m\u001b[43mcasted_key\u001b[49m\u001b[43m)\u001b[49m\n\u001b[32m   3813\u001b[39m \u001b[38;5;28;01mexcept\u001b[39;00m \u001b[38;5;167;01mKeyError\u001b[39;00m \u001b[38;5;28;01mas\u001b[39;00m err:\n",
      "\u001b[36mFile \u001b[39m\u001b[32mpandas/_libs/index.pyx:167\u001b[39m, in \u001b[36mpandas._libs.index.IndexEngine.get_loc\u001b[39m\u001b[34m()\u001b[39m\n",
      "\u001b[36mFile \u001b[39m\u001b[32mpandas/_libs/index.pyx:196\u001b[39m, in \u001b[36mpandas._libs.index.IndexEngine.get_loc\u001b[39m\u001b[34m()\u001b[39m\n",
      "\u001b[36mFile \u001b[39m\u001b[32mpandas/_libs/hashtable_class_helper.pxi:7088\u001b[39m, in \u001b[36mpandas._libs.hashtable.PyObjectHashTable.get_item\u001b[39m\u001b[34m()\u001b[39m\n",
      "\u001b[36mFile \u001b[39m\u001b[32mpandas/_libs/hashtable_class_helper.pxi:7096\u001b[39m, in \u001b[36mpandas._libs.hashtable.PyObjectHashTable.get_item\u001b[39m\u001b[34m()\u001b[39m\n",
      "\u001b[31mKeyError\u001b[39m: 'Datetime'",
      "\nThe above exception was the direct cause of the following exception:\n",
      "\u001b[31mKeyError\u001b[39m                                  Traceback (most recent call last)",
      "\u001b[36mCell\u001b[39m\u001b[36m \u001b[39m\u001b[32mIn[19]\u001b[39m\u001b[32m, line 4\u001b[39m\n\u001b[32m      1\u001b[39m \u001b[38;5;66;03m# --- Step 3: 特徵工程 (快速修復版) ---\u001b[39;00m\n\u001b[32m      2\u001b[39m \n\u001b[32m      3\u001b[39m \u001b[38;5;66;03m# ... (前面提取 Hour, DayOfWeek 等特徵的程式碼保持不變) ...\u001b[39;00m\n\u001b[32m----> \u001b[39m\u001b[32m4\u001b[39m df[\u001b[33m'\u001b[39m\u001b[33mHour\u001b[39m\u001b[33m'\u001b[39m] = \u001b[43mdf\u001b[49m\u001b[43m[\u001b[49m\u001b[33;43m'\u001b[39;49m\u001b[33;43mDatetime\u001b[39;49m\u001b[33;43m'\u001b[39;49m\u001b[43m]\u001b[49m.dt.hour\n\u001b[32m      5\u001b[39m df[\u001b[33m'\u001b[39m\u001b[33mDayOfWeek\u001b[39m\u001b[33m'\u001b[39m] = df[\u001b[33m'\u001b[39m\u001b[33mDatetime\u001b[39m\u001b[33m'\u001b[39m].dt.dayofweek\n\u001b[32m      6\u001b[39m df[\u001b[33m'\u001b[39m\u001b[33mMonth\u001b[39m\u001b[33m'\u001b[39m] = df[\u001b[33m'\u001b[39m\u001b[33mDatetime\u001b[39m\u001b[33m'\u001b[39m].dt.month\n",
      "\u001b[36mFile \u001b[39m\u001b[32mc:\\Users\\user\\miniconda3\\envs\\flask\\Lib\\site-packages\\pandas\\core\\frame.py:4107\u001b[39m, in \u001b[36mDataFrame.__getitem__\u001b[39m\u001b[34m(self, key)\u001b[39m\n\u001b[32m   4105\u001b[39m \u001b[38;5;28;01mif\u001b[39;00m \u001b[38;5;28mself\u001b[39m.columns.nlevels > \u001b[32m1\u001b[39m:\n\u001b[32m   4106\u001b[39m     \u001b[38;5;28;01mreturn\u001b[39;00m \u001b[38;5;28mself\u001b[39m._getitem_multilevel(key)\n\u001b[32m-> \u001b[39m\u001b[32m4107\u001b[39m indexer = \u001b[38;5;28;43mself\u001b[39;49m\u001b[43m.\u001b[49m\u001b[43mcolumns\u001b[49m\u001b[43m.\u001b[49m\u001b[43mget_loc\u001b[49m\u001b[43m(\u001b[49m\u001b[43mkey\u001b[49m\u001b[43m)\u001b[49m\n\u001b[32m   4108\u001b[39m \u001b[38;5;28;01mif\u001b[39;00m is_integer(indexer):\n\u001b[32m   4109\u001b[39m     indexer = [indexer]\n",
      "\u001b[36mFile \u001b[39m\u001b[32mc:\\Users\\user\\miniconda3\\envs\\flask\\Lib\\site-packages\\pandas\\core\\indexes\\base.py:3819\u001b[39m, in \u001b[36mIndex.get_loc\u001b[39m\u001b[34m(self, key)\u001b[39m\n\u001b[32m   3814\u001b[39m     \u001b[38;5;28;01mif\u001b[39;00m \u001b[38;5;28misinstance\u001b[39m(casted_key, \u001b[38;5;28mslice\u001b[39m) \u001b[38;5;129;01mor\u001b[39;00m (\n\u001b[32m   3815\u001b[39m         \u001b[38;5;28misinstance\u001b[39m(casted_key, abc.Iterable)\n\u001b[32m   3816\u001b[39m         \u001b[38;5;129;01mand\u001b[39;00m \u001b[38;5;28many\u001b[39m(\u001b[38;5;28misinstance\u001b[39m(x, \u001b[38;5;28mslice\u001b[39m) \u001b[38;5;28;01mfor\u001b[39;00m x \u001b[38;5;129;01min\u001b[39;00m casted_key)\n\u001b[32m   3817\u001b[39m     ):\n\u001b[32m   3818\u001b[39m         \u001b[38;5;28;01mraise\u001b[39;00m InvalidIndexError(key)\n\u001b[32m-> \u001b[39m\u001b[32m3819\u001b[39m     \u001b[38;5;28;01mraise\u001b[39;00m \u001b[38;5;167;01mKeyError\u001b[39;00m(key) \u001b[38;5;28;01mfrom\u001b[39;00m\u001b[38;5;250m \u001b[39m\u001b[34;01merr\u001b[39;00m\n\u001b[32m   3820\u001b[39m \u001b[38;5;28;01mexcept\u001b[39;00m \u001b[38;5;167;01mTypeError\u001b[39;00m:\n\u001b[32m   3821\u001b[39m     \u001b[38;5;66;03m# If we have a listlike key, _check_indexing_error will raise\u001b[39;00m\n\u001b[32m   3822\u001b[39m     \u001b[38;5;66;03m#  InvalidIndexError. Otherwise we fall through and re-raise\u001b[39;00m\n\u001b[32m   3823\u001b[39m     \u001b[38;5;66;03m#  the TypeError.\u001b[39;00m\n\u001b[32m   3824\u001b[39m     \u001b[38;5;28mself\u001b[39m._check_indexing_error(key)\n",
      "\u001b[31mKeyError\u001b[39m: 'Datetime'"
     ]
    }
   ],
   "source": [
    "# --- Step 3: 特徵工程 (快速修復版) ---\n",
    "\n",
    "# ... (前面提取 Hour, DayOfWeek 等特徵的程式碼保持不變) ...\n",
    "df['Hour'] = df['Datetime'].dt.hour\n",
    "df['DayOfWeek'] = df['Datetime'].dt.dayofweek\n",
    "df['Month'] = df['Datetime'].dt.month\n",
    "df['IsWeekend'] = df['DayOfWeek'].apply(lambda x: 1 if x >= 5 else 0)\n",
    "df['IsRushHour'] = df['Hour'].apply(lambda h: 1 if (7 <= h <= 9) or (17 <= h <= 19) else 0)\n",
    "\n",
    "\n",
    "# --- 將 StartExit 進行 One-Hot Encoding ---\n",
    "df = pd.get_dummies(df, columns=['StartExit'], prefix='Exit', dtype=int)\n",
    "\n",
    "\n",
    "# --- 動態獲取特徵欄位 ---\n",
    "# 先定義好基礎特徵\n",
    "base_features = ['Hour', 'DayOfWeek', 'Month', 'IsWeekend', 'IsRushHour']\n",
    "# 找出所有以 'Exit_' 開頭的欄位 (這是 get_dummies 產生的)\n",
    "exit_features = [col for col in df.columns if col.startswith('Exit_')]\n",
    "\n",
    "# 將基礎特徵和出口特徵合併成最終的特徵列表\n",
    "features = base_features + exit_features\n",
    "\n",
    "# --- 檢視我們建立好的特徵 ---\n",
    "print(\"\\n最終用於建模的特徵欄位預覽：\")\n",
    "features_to_show = ['TotalSeconds'] + features # 將目標也加進來顯示\n",
    "print(df[features_to_show].head())\n",
    "\n",
    "\n",
    "# --- 更新後續訓練時使用的特徵列表 ---\n",
    "# 在 Step 4 中，你就不需要再手動定義 features 列表了，直接使用這裡產生的即可\n",
    "print(\"\\n用於訓練的特徵:\", features)\n"
   ]
  },
  {
   "cell_type": "code",
   "execution_count": 20,
   "metadata": {},
   "outputs": [
    {
     "ename": "SyntaxError",
     "evalue": "invalid syntax (910402959.py, line 49)",
     "output_type": "error",
     "traceback": [
      "  \u001b[36mCell\u001b[39m\u001b[36m \u001b[39m\u001b[32mIn[20]\u001b[39m\u001b[32m, line 49\u001b[39m\n\u001b[31m    \u001b[39m\u001b[31mUse code with caution.\u001b[39m\n        ^\n\u001b[31mSyntaxError\u001b[39m\u001b[31m:\u001b[39m invalid syntax\n"
     ]
    }
   ],
   "source": [
    "from sklearn.preprocessing import OneHotEncoder\n",
    "\n",
    "# --- Step 3: 特徵工程 (修正版) ---\n",
    "\n",
    "# 從 'Datetime' 欄位中提取更多特徵\n",
    "df['Hour'] = df['Datetime'].dt.hour\n",
    "df['DayOfWeek'] = df['Datetime'].dt.dayofweek  # 星期一=0, 星期日=6\n",
    "df['Month'] = df['Datetime'].dt.month\n",
    "df['IsWeekend'] = df['DayOfWeek'].apply(lambda x: 1 if x >= 5 else 0)\n",
    "\n",
    "# 建立尖峰時段特徵\n",
    "def is_rush_hour(hour):\n",
    "    if (7 <= hour <= 9) or (17 <= hour <= 19):\n",
    "        return 1\n",
    "    return 0\n",
    "df['IsRushHour'] = df['Hour'].apply(is_rush_hour)\n",
    "\n",
    "# --- 使用 OneHotEncoder 處理 'StartExit' ---\n",
    "# 1. 實例化 OneHotEncoder\n",
    "#    handle_unknown='ignore' 可以在未來預測時忽略未見過的類別\n",
    "#    sparse_output=False 讓它直接輸出 numpy array 而不是稀疏矩陣\n",
    "ohe = OneHotEncoder(handle_unknown='ignore', sparse_output=False)\n",
    "\n",
    "# 2. Fit and transform the 'StartExit' column\n",
    "#    需要將 df[['StartExit']] 轉為 2D array\n",
    "encoded_features = ohe.fit_transform(df[['StartExit']])\n",
    "\n",
    "# 3. 獲取新欄位的名稱 (例如 'StartExit_Exit_1', 'StartExit_Exit_2')\n",
    "new_feature_names = ohe.get_feature_names_out(['StartExit'])\n",
    "\n",
    "# 4. 將編碼後的特徵轉換為 DataFrame\n",
    "encoded_df = pd.DataFrame(encoded_features, columns=new_feature_names, index=df.index)\n",
    "\n",
    "# 5. 將新的編碼欄位合併回原始 DataFrame，並刪除舊的 'StartExit'\n",
    "df = pd.concat([df, encoded_df], axis=1)\n",
    "df.drop('StartExit', axis=1, inplace=True)\n",
    "\n",
    "\n",
    "# --- 檢視我們建立好的特徵 ---\n",
    "# 由於欄位名稱改變了，我們也更新一下要顯示的列表\n",
    "print(\"\\n最終用於建模的特徵欄位預覽：\")\n",
    "features_to_show = ['TotalSeconds', 'Hour', 'DayOfWeek', 'IsWeekend', 'IsRushHour'] + list(new_feature_names)\n",
    "print(df[features_to_show].head())\n",
    "\n",
    "# --- 更新後續訓練時使用的特徵列表 ---\n",
    "# 在 Step 4 中，features 列表也需要更新\n",
    "features = ['Hour', 'DayOfWeek', 'Month', 'IsWeekend', 'IsRushHour'] + list(new_feature_names)\n",
    "print(\"\\n用於訓練的特徵:\", features)\n",
    "Use code with caution.\n",
    "Python\n",
    "# 優點： 這是機器學習專案的標準做法，更為嚴謹且可靠。\n",
    "# 方案二：(快速修復) 動態產生特徵列表\n",
    "# 如果您想繼續使用 pd.get_dummies，不想改動太多，那麼我們需要讓程式碼變得更「動態」，不要寫死欄位名稱。\n",
    "# 請將您原本 Step 3 的程式碼替換成以下內容：\n",
    "# --- Step 3: 特徵工程 (快速修復版) ---\n",
    "\n",
    "# ... (前面提取 Hour, DayOfWeek 等特徵的程式碼保持不變) ...\n",
    "df['Hour'] = df['Datetime'].dt.hour\n",
    "df['DayOfWeek'] = df['Datetime'].dt.dayofweek\n",
    "df['Month'] = df['Datetime'].dt.month\n",
    "df['IsWeekend'] = df['DayOfWeek'].apply(lambda x: 1 if x >= 5 else 0)\n",
    "df['IsRushHour'] = df['Hour'].apply(lambda h: 1 if (7 <= h <= 9) or (17 <= h <= 19) else 0)\n",
    "\n",
    "\n",
    "# --- 將 StartExit 進行 One-Hot Encoding ---\n",
    "df = pd.get_dummies(df, columns=['StartExit'], prefix='Exit', dtype=int)\n",
    "\n",
    "\n",
    "# --- 動態獲取特徵欄位 ---\n",
    "# 先定義好基礎特徵\n",
    "base_features = ['Hour', 'DayOfWeek', 'Month', 'IsWeekend', 'IsRushHour']\n",
    "# 找出所有以 'Exit_' 開頭的欄位 (這是 get_dummies 產生的)\n",
    "exit_features = [col for col in df.columns if col.startswith('Exit_')]\n",
    "\n",
    "# 將基礎特徵和出口特徵合併成最終的特徵列表\n",
    "features = base_features + exit_features\n",
    "\n",
    "# --- 檢視我們建立好的特徵 ---\n",
    "print(\"\\n最終用於建模的特徵欄位預覽：\")\n",
    "features_to_show = ['TotalSeconds'] + features # 將目標也加進來顯示\n",
    "print(df[features_to_show].head())\n",
    "\n",
    "\n",
    "# --- 更新後續訓練時使用的特徵列表 ---\n",
    "# 在 Step 4 中，你就不需要再手動定義 features 列表了，直接使用這裡產生的即可\n",
    "print(\"\\n用於訓練的特徵:\", features)"
   ]
  },
  {
   "cell_type": "code",
   "execution_count": 21,
   "metadata": {},
   "outputs": [
    {
     "ename": "KeyError",
     "evalue": "'Datetime'",
     "output_type": "error",
     "traceback": [
      "\u001b[31m---------------------------------------------------------------------------\u001b[39m",
      "\u001b[31mKeyError\u001b[39m                                  Traceback (most recent call last)",
      "\u001b[36mFile \u001b[39m\u001b[32mc:\\Users\\user\\miniconda3\\envs\\flask\\Lib\\site-packages\\pandas\\core\\indexes\\base.py:3812\u001b[39m, in \u001b[36mIndex.get_loc\u001b[39m\u001b[34m(self, key)\u001b[39m\n\u001b[32m   3811\u001b[39m \u001b[38;5;28;01mtry\u001b[39;00m:\n\u001b[32m-> \u001b[39m\u001b[32m3812\u001b[39m     \u001b[38;5;28;01mreturn\u001b[39;00m \u001b[38;5;28;43mself\u001b[39;49m\u001b[43m.\u001b[49m\u001b[43m_engine\u001b[49m\u001b[43m.\u001b[49m\u001b[43mget_loc\u001b[49m\u001b[43m(\u001b[49m\u001b[43mcasted_key\u001b[49m\u001b[43m)\u001b[49m\n\u001b[32m   3813\u001b[39m \u001b[38;5;28;01mexcept\u001b[39;00m \u001b[38;5;167;01mKeyError\u001b[39;00m \u001b[38;5;28;01mas\u001b[39;00m err:\n",
      "\u001b[36mFile \u001b[39m\u001b[32mpandas/_libs/index.pyx:167\u001b[39m, in \u001b[36mpandas._libs.index.IndexEngine.get_loc\u001b[39m\u001b[34m()\u001b[39m\n",
      "\u001b[36mFile \u001b[39m\u001b[32mpandas/_libs/index.pyx:196\u001b[39m, in \u001b[36mpandas._libs.index.IndexEngine.get_loc\u001b[39m\u001b[34m()\u001b[39m\n",
      "\u001b[36mFile \u001b[39m\u001b[32mpandas/_libs/hashtable_class_helper.pxi:7088\u001b[39m, in \u001b[36mpandas._libs.hashtable.PyObjectHashTable.get_item\u001b[39m\u001b[34m()\u001b[39m\n",
      "\u001b[36mFile \u001b[39m\u001b[32mpandas/_libs/hashtable_class_helper.pxi:7096\u001b[39m, in \u001b[36mpandas._libs.hashtable.PyObjectHashTable.get_item\u001b[39m\u001b[34m()\u001b[39m\n",
      "\u001b[31mKeyError\u001b[39m: 'Datetime'",
      "\nThe above exception was the direct cause of the following exception:\n",
      "\u001b[31mKeyError\u001b[39m                                  Traceback (most recent call last)",
      "\u001b[36mCell\u001b[39m\u001b[36m \u001b[39m\u001b[32mIn[21]\u001b[39m\u001b[32m, line 2\u001b[39m\n\u001b[32m      1\u001b[39m \u001b[38;5;66;03m# 從 'Datetime' 欄位中提取更多特徵\u001b[39;00m\n\u001b[32m----> \u001b[39m\u001b[32m2\u001b[39m df[\u001b[33m'\u001b[39m\u001b[33mHour\u001b[39m\u001b[33m'\u001b[39m] = \u001b[43mdf\u001b[49m\u001b[43m[\u001b[49m\u001b[33;43m'\u001b[39;49m\u001b[33;43mDatetime\u001b[39;49m\u001b[33;43m'\u001b[39;49m\u001b[43m]\u001b[49m.dt.hour\n\u001b[32m      3\u001b[39m df[\u001b[33m'\u001b[39m\u001b[33mDayOfWeek\u001b[39m\u001b[33m'\u001b[39m] = df[\u001b[33m'\u001b[39m\u001b[33mDatetime\u001b[39m\u001b[33m'\u001b[39m].dt.dayofweek  \u001b[38;5;66;03m# 星期一=0, 星期日=6\u001b[39;00m\n\u001b[32m      4\u001b[39m df[\u001b[33m'\u001b[39m\u001b[33mMonth\u001b[39m\u001b[33m'\u001b[39m] = df[\u001b[33m'\u001b[39m\u001b[33mDatetime\u001b[39m\u001b[33m'\u001b[39m].dt.month\n",
      "\u001b[36mFile \u001b[39m\u001b[32mc:\\Users\\user\\miniconda3\\envs\\flask\\Lib\\site-packages\\pandas\\core\\frame.py:4107\u001b[39m, in \u001b[36mDataFrame.__getitem__\u001b[39m\u001b[34m(self, key)\u001b[39m\n\u001b[32m   4105\u001b[39m \u001b[38;5;28;01mif\u001b[39;00m \u001b[38;5;28mself\u001b[39m.columns.nlevels > \u001b[32m1\u001b[39m:\n\u001b[32m   4106\u001b[39m     \u001b[38;5;28;01mreturn\u001b[39;00m \u001b[38;5;28mself\u001b[39m._getitem_multilevel(key)\n\u001b[32m-> \u001b[39m\u001b[32m4107\u001b[39m indexer = \u001b[38;5;28;43mself\u001b[39;49m\u001b[43m.\u001b[49m\u001b[43mcolumns\u001b[49m\u001b[43m.\u001b[49m\u001b[43mget_loc\u001b[49m\u001b[43m(\u001b[49m\u001b[43mkey\u001b[49m\u001b[43m)\u001b[49m\n\u001b[32m   4108\u001b[39m \u001b[38;5;28;01mif\u001b[39;00m is_integer(indexer):\n\u001b[32m   4109\u001b[39m     indexer = [indexer]\n",
      "\u001b[36mFile \u001b[39m\u001b[32mc:\\Users\\user\\miniconda3\\envs\\flask\\Lib\\site-packages\\pandas\\core\\indexes\\base.py:3819\u001b[39m, in \u001b[36mIndex.get_loc\u001b[39m\u001b[34m(self, key)\u001b[39m\n\u001b[32m   3814\u001b[39m     \u001b[38;5;28;01mif\u001b[39;00m \u001b[38;5;28misinstance\u001b[39m(casted_key, \u001b[38;5;28mslice\u001b[39m) \u001b[38;5;129;01mor\u001b[39;00m (\n\u001b[32m   3815\u001b[39m         \u001b[38;5;28misinstance\u001b[39m(casted_key, abc.Iterable)\n\u001b[32m   3816\u001b[39m         \u001b[38;5;129;01mand\u001b[39;00m \u001b[38;5;28many\u001b[39m(\u001b[38;5;28misinstance\u001b[39m(x, \u001b[38;5;28mslice\u001b[39m) \u001b[38;5;28;01mfor\u001b[39;00m x \u001b[38;5;129;01min\u001b[39;00m casted_key)\n\u001b[32m   3817\u001b[39m     ):\n\u001b[32m   3818\u001b[39m         \u001b[38;5;28;01mraise\u001b[39;00m InvalidIndexError(key)\n\u001b[32m-> \u001b[39m\u001b[32m3819\u001b[39m     \u001b[38;5;28;01mraise\u001b[39;00m \u001b[38;5;167;01mKeyError\u001b[39;00m(key) \u001b[38;5;28;01mfrom\u001b[39;00m\u001b[38;5;250m \u001b[39m\u001b[34;01merr\u001b[39;00m\n\u001b[32m   3820\u001b[39m \u001b[38;5;28;01mexcept\u001b[39;00m \u001b[38;5;167;01mTypeError\u001b[39;00m:\n\u001b[32m   3821\u001b[39m     \u001b[38;5;66;03m# If we have a listlike key, _check_indexing_error will raise\u001b[39;00m\n\u001b[32m   3822\u001b[39m     \u001b[38;5;66;03m#  InvalidIndexError. Otherwise we fall through and re-raise\u001b[39;00m\n\u001b[32m   3823\u001b[39m     \u001b[38;5;66;03m#  the TypeError.\u001b[39;00m\n\u001b[32m   3824\u001b[39m     \u001b[38;5;28mself\u001b[39m._check_indexing_error(key)\n",
      "\u001b[31mKeyError\u001b[39m: 'Datetime'"
     ]
    }
   ],
   "source": [
    "# 從 'Datetime' 欄位中提取更多特徵\n",
    "df['Hour'] = df['Datetime'].dt.hour\n",
    "df['DayOfWeek'] = df['Datetime'].dt.dayofweek  # 星期一=0, 星期日=6\n",
    "df['Month'] = df['Datetime'].dt.month\n",
    "df['IsWeekend'] = df['DayOfWeek'].apply(lambda x: 1 if x >= 5 else 0) # 1 代表週末\n",
    "\n",
    "# 建立尖峰時段特徵 (早上7-9點, 下午5-7點)\n",
    "def is_rush_hour(hour):\n",
    "    if (7 <= hour <= 9) or (17 <= hour <= 19):\n",
    "        return 1\n",
    "    return 0\n",
    "df['IsRushHour'] = df['Hour'].apply(is_rush_hour)\n",
    "\n",
    "# 將 StartExit 進行 One-Hot Encoding\n",
    "# 這會將類別特徵轉換為模型可以理解的 0/1 數值格式\n",
    "df = pd.get_dummies(df, columns=['StartExit'], prefix='Exit')\n",
    "\n",
    "\n",
    "# 檢視我們建立好的特徵\n",
    "print(\"\\n最終用於建模的特徵欄位預覽：\")\n",
    "features_to_show = ['TotalSeconds', 'Hour', 'DayOfWeek', 'IsWeekend', 'IsRushHour', 'Exit_Exit_1', 'Exit_Exit_2']\n",
    "print(df[features_to_show].head())"
   ]
  },
  {
   "cell_type": "code",
   "execution_count": 23,
   "metadata": {},
   "outputs": [
    {
     "ename": "KeyError",
     "evalue": "\"None of [Index(['Hour', 'DayOfWeek', 'Month', 'IsWeekend', 'IsRushHour', 'Exit_Exit_1',\\n       'Exit_Exit_2'],\\n      dtype='object')] are in the [columns]\"",
     "output_type": "error",
     "traceback": [
      "\u001b[31m---------------------------------------------------------------------------\u001b[39m",
      "\u001b[31mKeyError\u001b[39m                                  Traceback (most recent call last)",
      "\u001b[36mCell\u001b[39m\u001b[36m \u001b[39m\u001b[32mIn[23]\u001b[39m\u001b[32m, line 9\u001b[39m\n\u001b[32m      6\u001b[39m features = [\u001b[33m'\u001b[39m\u001b[33mHour\u001b[39m\u001b[33m'\u001b[39m, \u001b[33m'\u001b[39m\u001b[33mDayOfWeek\u001b[39m\u001b[33m'\u001b[39m, \u001b[33m'\u001b[39m\u001b[33mMonth\u001b[39m\u001b[33m'\u001b[39m, \u001b[33m'\u001b[39m\u001b[33mIsWeekend\u001b[39m\u001b[33m'\u001b[39m, \u001b[33m'\u001b[39m\u001b[33mIsRushHour\u001b[39m\u001b[33m'\u001b[39m, \u001b[33m'\u001b[39m\u001b[33mExit_Exit_1\u001b[39m\u001b[33m'\u001b[39m, \u001b[33m'\u001b[39m\u001b[33mExit_Exit_2\u001b[39m\u001b[33m'\u001b[39m]\n\u001b[32m      7\u001b[39m target = \u001b[33m'\u001b[39m\u001b[33mTotalSeconds\u001b[39m\u001b[33m'\u001b[39m\n\u001b[32m----> \u001b[39m\u001b[32m9\u001b[39m X = \u001b[43mdf\u001b[49m\u001b[43m[\u001b[49m\u001b[43mfeatures\u001b[49m\u001b[43m]\u001b[49m\n\u001b[32m     10\u001b[39m y = df[target]\n\u001b[32m     12\u001b[39m \u001b[38;5;66;03m# --- 分割訓練集與測試集 ---\u001b[39;00m\n\u001b[32m     13\u001b[39m \u001b[38;5;66;03m# 80% 用於訓練，20% 用於測試模型的表現\u001b[39;00m\n",
      "\u001b[36mFile \u001b[39m\u001b[32mc:\\Users\\user\\miniconda3\\envs\\flask\\Lib\\site-packages\\pandas\\core\\frame.py:4113\u001b[39m, in \u001b[36mDataFrame.__getitem__\u001b[39m\u001b[34m(self, key)\u001b[39m\n\u001b[32m   4111\u001b[39m     \u001b[38;5;28;01mif\u001b[39;00m is_iterator(key):\n\u001b[32m   4112\u001b[39m         key = \u001b[38;5;28mlist\u001b[39m(key)\n\u001b[32m-> \u001b[39m\u001b[32m4113\u001b[39m     indexer = \u001b[38;5;28;43mself\u001b[39;49m\u001b[43m.\u001b[49m\u001b[43mcolumns\u001b[49m\u001b[43m.\u001b[49m\u001b[43m_get_indexer_strict\u001b[49m\u001b[43m(\u001b[49m\u001b[43mkey\u001b[49m\u001b[43m,\u001b[49m\u001b[43m \u001b[49m\u001b[33;43m\"\u001b[39;49m\u001b[33;43mcolumns\u001b[39;49m\u001b[33;43m\"\u001b[39;49m\u001b[43m)\u001b[49m[\u001b[32m1\u001b[39m]\n\u001b[32m   4115\u001b[39m \u001b[38;5;66;03m# take() does not accept boolean indexers\u001b[39;00m\n\u001b[32m   4116\u001b[39m \u001b[38;5;28;01mif\u001b[39;00m \u001b[38;5;28mgetattr\u001b[39m(indexer, \u001b[33m\"\u001b[39m\u001b[33mdtype\u001b[39m\u001b[33m\"\u001b[39m, \u001b[38;5;28;01mNone\u001b[39;00m) == \u001b[38;5;28mbool\u001b[39m:\n",
      "\u001b[36mFile \u001b[39m\u001b[32mc:\\Users\\user\\miniconda3\\envs\\flask\\Lib\\site-packages\\pandas\\core\\indexes\\base.py:6212\u001b[39m, in \u001b[36mIndex._get_indexer_strict\u001b[39m\u001b[34m(self, key, axis_name)\u001b[39m\n\u001b[32m   6209\u001b[39m \u001b[38;5;28;01melse\u001b[39;00m:\n\u001b[32m   6210\u001b[39m     keyarr, indexer, new_indexer = \u001b[38;5;28mself\u001b[39m._reindex_non_unique(keyarr)\n\u001b[32m-> \u001b[39m\u001b[32m6212\u001b[39m \u001b[38;5;28;43mself\u001b[39;49m\u001b[43m.\u001b[49m\u001b[43m_raise_if_missing\u001b[49m\u001b[43m(\u001b[49m\u001b[43mkeyarr\u001b[49m\u001b[43m,\u001b[49m\u001b[43m \u001b[49m\u001b[43mindexer\u001b[49m\u001b[43m,\u001b[49m\u001b[43m \u001b[49m\u001b[43maxis_name\u001b[49m\u001b[43m)\u001b[49m\n\u001b[32m   6214\u001b[39m keyarr = \u001b[38;5;28mself\u001b[39m.take(indexer)\n\u001b[32m   6215\u001b[39m \u001b[38;5;28;01mif\u001b[39;00m \u001b[38;5;28misinstance\u001b[39m(key, Index):\n\u001b[32m   6216\u001b[39m     \u001b[38;5;66;03m# GH 42790 - Preserve name from an Index\u001b[39;00m\n",
      "\u001b[36mFile \u001b[39m\u001b[32mc:\\Users\\user\\miniconda3\\envs\\flask\\Lib\\site-packages\\pandas\\core\\indexes\\base.py:6261\u001b[39m, in \u001b[36mIndex._raise_if_missing\u001b[39m\u001b[34m(self, key, indexer, axis_name)\u001b[39m\n\u001b[32m   6259\u001b[39m \u001b[38;5;28;01mif\u001b[39;00m nmissing:\n\u001b[32m   6260\u001b[39m     \u001b[38;5;28;01mif\u001b[39;00m nmissing == \u001b[38;5;28mlen\u001b[39m(indexer):\n\u001b[32m-> \u001b[39m\u001b[32m6261\u001b[39m         \u001b[38;5;28;01mraise\u001b[39;00m \u001b[38;5;167;01mKeyError\u001b[39;00m(\u001b[33mf\u001b[39m\u001b[33m\"\u001b[39m\u001b[33mNone of [\u001b[39m\u001b[38;5;132;01m{\u001b[39;00mkey\u001b[38;5;132;01m}\u001b[39;00m\u001b[33m] are in the [\u001b[39m\u001b[38;5;132;01m{\u001b[39;00maxis_name\u001b[38;5;132;01m}\u001b[39;00m\u001b[33m]\u001b[39m\u001b[33m\"\u001b[39m)\n\u001b[32m   6263\u001b[39m     not_found = \u001b[38;5;28mlist\u001b[39m(ensure_index(key)[missing_mask.nonzero()[\u001b[32m0\u001b[39m]].unique())\n\u001b[32m   6264\u001b[39m     \u001b[38;5;28;01mraise\u001b[39;00m \u001b[38;5;167;01mKeyError\u001b[39;00m(\u001b[33mf\u001b[39m\u001b[33m\"\u001b[39m\u001b[38;5;132;01m{\u001b[39;00mnot_found\u001b[38;5;132;01m}\u001b[39;00m\u001b[33m not in index\u001b[39m\u001b[33m\"\u001b[39m)\n",
      "\u001b[31mKeyError\u001b[39m: \"None of [Index(['Hour', 'DayOfWeek', 'Month', 'IsWeekend', 'IsRushHour', 'Exit_Exit_1',\\n       'Exit_Exit_2'],\\n      dtype='object')] are in the [columns]\""
     ]
    }
   ],
   "source": [
    "from sklearn.model_selection import train_test_split\n",
    "import lightgbm as lgb\n",
    "\n",
    "# --- 準備訓練資料 ---\n",
    "# X 是我們的特徵，y 是我們的目標\n",
    "features = ['Hour', 'DayOfWeek', 'Month', 'IsWeekend', 'IsRushHour', 'Exit_Exit_1', 'Exit_Exit_2']\n",
    "target = 'TotalSeconds'\n",
    "\n",
    "X = df[features]\n",
    "y = df[target]\n",
    "\n",
    "# --- 分割訓練集與測試集 ---\n",
    "# 80% 用於訓練，20% 用於測試模型的表現\n",
    "X_train, X_test, y_train, y_test = train_test_split(X, y, test_size=0.2, random_state=42)\n",
    "\n",
    "print(f\"訓練集大小: {X_train.shape[0]} 筆\")\n",
    "print(f\"測試集大小: {X_test.shape[0]} 筆\")\n",
    "\n",
    "\n",
    "# --- 初始化並訓練模型 ---\n",
    "# LGBMRegressor 是一個用於迴歸問題的模型\n",
    "lgbm = lgb.LGBMRegressor(random_state=42)\n",
    "\n",
    "print(\"\\n開始訓練模型...\")\n",
    "lgbm.fit(X_train, y_train)\n",
    "print(\"模型訓練完成！\")"
   ]
  },
  {
   "cell_type": "code",
   "execution_count": 24,
   "metadata": {},
   "outputs": [
    {
     "ename": "NameError",
     "evalue": "name 'lgbm' is not defined",
     "output_type": "error",
     "traceback": [
      "\u001b[31m---------------------------------------------------------------------------\u001b[39m",
      "\u001b[31mNameError\u001b[39m                                 Traceback (most recent call last)",
      "\u001b[36mCell\u001b[39m\u001b[36m \u001b[39m\u001b[32mIn[24]\u001b[39m\u001b[32m, line 4\u001b[39m\n\u001b[32m      1\u001b[39m \u001b[38;5;28;01mfrom\u001b[39;00m\u001b[38;5;250m \u001b[39m\u001b[34;01msklearn\u001b[39;00m\u001b[34;01m.\u001b[39;00m\u001b[34;01mmetrics\u001b[39;00m\u001b[38;5;250m \u001b[39m\u001b[38;5;28;01mimport\u001b[39;00m mean_absolute_error, r2_score\n\u001b[32m      3\u001b[39m \u001b[38;5;66;03m# 在測試集上進行預測\u001b[39;00m\n\u001b[32m----> \u001b[39m\u001b[32m4\u001b[39m y_pred = \u001b[43mlgbm\u001b[49m.predict(X_test)\n\u001b[32m      6\u001b[39m \u001b[38;5;66;03m# 計算評估指標\u001b[39;00m\n\u001b[32m      7\u001b[39m mae = mean_absolute_error(y_test, y_pred)\n",
      "\u001b[31mNameError\u001b[39m: name 'lgbm' is not defined"
     ]
    }
   ],
   "source": [
    "from sklearn.metrics import mean_absolute_error, r2_score\n",
    "\n",
    "# 在測試集上進行預測\n",
    "y_pred = lgbm.predict(X_test)\n",
    "\n",
    "# 計算評估指標\n",
    "mae = mean_absolute_error(y_test, y_pred)\n",
    "r2 = r2_score(y_test, y_pred)\n",
    "\n",
    "print(f\"\\n--- 模型評估結果 ---\")\n",
    "print(f\"平均絕對誤差 (MAE): {mae:.2f} 秒\")\n",
    "print(f\"這代表我們的預測平均會與實際騎乘時間相差約 {mae/60:.2f} 分鐘。\")\n",
    "print(f\"R-squared (R²): {r2:.2f}\")\n",
    "print(\"R² 衡量模型對資料變異的解釋能力，越接近1越好。\")\n",
    "\n",
    "# 視覺化預測結果 vs 實際結果\n",
    "plt.figure(figsize=(10, 6))\n",
    "sns.scatterplot(x=y_test, y=y_pred, alpha=0.5)\n",
    "plt.plot([y_test.min(), y_test.max()], [y_test.min(), y_test.max()], '--', color='red', linewidth=2)\n",
    "plt.title('實際騎乘時間 vs. 模型預測時間')\n",
    "plt.xlabel('實際時間 (秒)')\n",
    "plt.ylabel('預測時間 (秒)')\n",
    "plt.grid(True)\n",
    "plt.show()"
   ]
  },
  {
   "cell_type": "code",
   "execution_count": 25,
   "metadata": {},
   "outputs": [
    {
     "ename": "SyntaxError",
     "evalue": "incomplete input (2968803707.py, line 4)",
     "output_type": "error",
     "traceback": [
      "  \u001b[36mCell\u001b[39m\u001b[36m \u001b[39m\u001b[32mIn[25]\u001b[39m\u001b[32m, line 4\u001b[39m\n\u001b[31m    \u001b[39m\u001b[31mplt.figure(figsize\u001b[39m\n                      ^\n\u001b[31mSyntaxError\u001b[39m\u001b[31m:\u001b[39m incomplete input\n"
     ]
    }
   ],
   "source": [
    "# 獲取特徵重要性\n",
    "feature_imp = pd.DataFrame(sorted(zip(lgbm.feature_importances_, X.columns)), columns=['Value','Feature'])\n",
    "\n",
    "plt.figure(figsize\n"
   ]
  },
  {
   "cell_type": "code",
   "execution_count": null,
   "metadata": {},
   "outputs": [],
   "source": []
  }
 ],
 "metadata": {
  "kernelspec": {
   "display_name": "flask",
   "language": "python",
   "name": "python3"
  },
  "language_info": {
   "codemirror_mode": {
    "name": "ipython",
    "version": 3
   },
   "file_extension": ".py",
   "mimetype": "text/x-python",
   "name": "python",
   "nbconvert_exporter": "python",
   "pygments_lexer": "ipython3",
   "version": "3.11.11"
  }
 },
 "nbformat": 4,
 "nbformat_minor": 2
}
