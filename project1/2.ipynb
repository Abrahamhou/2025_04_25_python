{
 "cells": [
  {
   "cell_type": "code",
   "execution_count": 1,
   "metadata": {},
   "outputs": [
    {
     "ename": "NameError",
     "evalue": "name 'df' is not defined",
     "output_type": "error",
     "traceback": [
      "\u001b[31m---------------------------------------------------------------------------\u001b[39m",
      "\u001b[31mNameError\u001b[39m                                 Traceback (most recent call last)",
      "\u001b[36mCell\u001b[39m\u001b[36m \u001b[39m\u001b[32mIn[1]\u001b[39m\u001b[32m, line 2\u001b[39m\n\u001b[32m      1\u001b[39m \u001b[38;5;66;03m# 移除最後一行的文字說明\u001b[39;00m\n\u001b[32m----> \u001b[39m\u001b[32m2\u001b[39m df = \u001b[43mdf\u001b[49m.iloc[:-\u001b[32m1\u001b[39m].copy()\n\u001b[32m      4\u001b[39m \u001b[38;5;28;01mdef\u001b[39;00m\u001b[38;5;250m \u001b[39m\u001b[34mparse_time_to_seconds\u001b[39m(time_str):\n\u001b[32m      5\u001b[39m \u001b[38;5;250m    \u001b[39m\u001b[33;03m\"\"\"將 MM:SS 或 HH:MM:SS 格式的字串轉為總秒數，錯誤格式返回 None\"\"\"\u001b[39;00m\n",
      "\u001b[31mNameError\u001b[39m: name 'df' is not defined"
     ]
    }
   ],
   "source": [
    "# 移除最後一行的文字說明\n",
    "df = df.iloc[:-1].copy()\n",
    "\n",
    "def parse_time_to_seconds(time_str):\n",
    "    \"\"\"將 MM:SS 或 HH:MM:SS 格式的字串轉為總秒數，錯誤格式返回 None\"\"\"\n",
    "    try:\n",
    "        # pd.to_timedelta 可以處理多種時間格式\n",
    "        # 我們強制單位為秒，並取其總秒數\n",
    "        return pd.to_timedelta(time_str).total_seconds()\n",
    "    except (ValueError, TypeError):\n",
    "        # 如果格式錯誤或值為空，返回 None\n",
    "        return None\n",
    "\n",
    "# 應用函數，並建立新欄位 'TotalSeconds'\n",
    "df['TotalSeconds'] = df['Time2'].apply(parse_time_to_seconds)\n",
    "\n",
    "# --- 清理轉換後的資料 ---\n",
    "# 移除轉換失敗的資料列 (TotalSeconds 是 NaT 或 None)\n",
    "original_rows = len(df)\n",
    "df.dropna(subset=['TotalSeconds'], inplace=True)\n",
    "print(f\"移除了 {original_rows - len(df)} 筆無法解析時間的資料。\")\n",
    "\n",
    "# 將秒數轉為整數\n",
    "df['TotalSeconds'] = df['TotalSeconds'].astype(int)\n",
    "\n",
    "# --- 處理極端值 ---\n",
    "# 騎乘時間少於 3 分鐘 (180秒) 或多於 60 分鐘 (3600秒) 可能有問題，先移除\n",
    "original_rows = len(df)\n",
    "df = df[(df['TotalSeconds'] >= 180) & (df['TotalSeconds'] <= 3600)]\n",
    "print(f\"移除了 {original_rows - len(df)} 筆騎乘時間極端的資料。\")\n",
    "\n",
    "print(\"\\n清理後的時間資料分佈：\")\n",
    "print(df['TotalSeconds'].describe())"
   ]
  }
 ],
 "metadata": {
  "kernelspec": {
   "display_name": "flask",
   "language": "python",
   "name": "python3"
  },
  "language_info": {
   "codemirror_mode": {
    "name": "ipython",
    "version": 3
   },
   "file_extension": ".py",
   "mimetype": "text/x-python",
   "name": "python",
   "nbconvert_exporter": "python",
   "pygments_lexer": "ipython3",
   "version": "3.11.11"
  }
 },
 "nbformat": 4,
 "nbformat_minor": 2
}
