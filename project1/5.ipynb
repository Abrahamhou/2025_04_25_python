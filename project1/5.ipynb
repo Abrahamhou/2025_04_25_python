{
 "cells": [
  {
   "cell_type": "code",
   "execution_count": 6,
   "metadata": {},
   "outputs": [],
   "source": [
    "# =============================================================================\n",
    "# 步驟一：載入函式庫與設定環境\n",
    "# =============================================================================\n",
    "import pandas as pd\n",
    "import numpy as np\n",
    "import matplotlib.pyplot as plt\n",
    "import seaborn as sns\n",
    "from scipy import stats\n",
    "from sklearn.model_selection import train_test_split\n",
    "from sklearn.preprocessing import OneHotEncoder\n",
    "import lightgbm as lgb\n",
    "from sklearn.metrics import mean_absolute_error, r2_score\n",
    "\n",
    "# --- 設定 Matplotlib 顯示中文字體 ---\n",
    "try:\n",
    "    plt.rcParams['font.sans-serif'] = ['Microsoft JhengHei'] \n",
    "    plt.rcParams['axes.unicode_minus'] = False\n",
    "except:\n",
    "    try:\n",
    "        plt.rcParams['font.sans-serif'] = ['Arial Unicode MS']\n",
    "        plt.rcParams['axes.unicode_minus'] = False\n",
    "    except:\n",
    "        print(\"警告：未找到指定的中文字體，圖表標題可能無法正常顯示。\")\n"
   ]
  },
  {
   "cell_type": "code",
   "execution_count": 4,
   "metadata": {},
   "outputs": [
    {
     "ename": "NameError",
     "evalue": "name 'pd' is not defined",
     "output_type": "error",
     "traceback": [
      "\u001b[31m---------------------------------------------------------------------------\u001b[39m",
      "\u001b[31mNameError\u001b[39m                                 Traceback (most recent call last)",
      "\u001b[36mCell\u001b[39m\u001b[36m \u001b[39m\u001b[32mIn[4]\u001b[39m\u001b[32m, line 6\u001b[39m\n\u001b[32m      4\u001b[39m file_path = \u001b[33m'\u001b[39m\u001b[33mk04.csv\u001b[39m\u001b[33m'\u001b[39m \n\u001b[32m      5\u001b[39m \u001b[38;5;28;01mtry\u001b[39;00m:\n\u001b[32m----> \u001b[39m\u001b[32m6\u001b[39m     df = \u001b[43mpd\u001b[49m.read_csv(file_path, encoding=\u001b[33m'\u001b[39m\u001b[33mutf-8-sig\u001b[39m\u001b[33m'\u001b[39m)\n\u001b[32m      7\u001b[39m \u001b[38;5;28;01mexcept\u001b[39;00m \u001b[38;5;167;01mUnicodeDecodeError\u001b[39;00m:\n\u001b[32m      8\u001b[39m     df = pd.read_csv(file_path, encoding=\u001b[33m'\u001b[39m\u001b[33mbig5\u001b[39m\u001b[33m'\u001b[39m)\n",
      "\u001b[31mNameError\u001b[39m: name 'pd' is not defined"
     ]
    }
   ],
   "source": [
    "# =============================================================================\n",
    "# 步驟二：資料載入與【穩健的】清理\n",
    "# =============================================================================\n",
    "file_path = 'k04.csv' \n",
    "try:\n",
    "    df = pd.read_csv(file_path, encoding='utf-8-sig')\n",
    "except UnicodeDecodeError:\n",
    "    df = pd.read_csv(file_path, encoding='big5')\n",
    "\n",
    "print(\"--- 資料清理開始 ---\")\n",
    "print(f\"原始資料筆數: {len(df)}\")\n",
    "\n",
    "# 1. 時間轉換函數\n",
    "def parse_time_to_seconds(time_str):\n",
    "    try:\n",
    "        # 處理 '190012  08:55:00 AM' 這類明顯錯誤\n",
    "        if isinstance(time_str, str) and len(time_str) > 15: \n",
    "             return None\n",
    "        return pd.to_timedelta(time_str).total_seconds()\n",
    "    except (ValueError, TypeError):\n",
    "        return None\n",
    "\n",
    "df['TotalSeconds'] = df['Time2'].apply(parse_time_to_seconds)\n",
    "\n",
    "# 2. 【偵錯點 A】檢查時間轉換後的狀況\n",
    "print(f\"\\n--- 偵錯點 A: 時間轉換檢查 ---\")\n",
    "df_temp = df.copy()\n",
    "df_temp.dropna(subset=['TotalSeconds'], inplace=True)\n",
    "print(f\"成功轉換為秒數的資料有 {len(df_temp)} 筆。\")\n",
    "if len(df_temp) > 0:\n",
    "    print(\"轉換後時間的統計資訊：\")\n",
    "    print(df_temp['TotalSeconds'].describe())\n",
    "else:\n",
    "    print(\"[嚴重錯誤] 沒有任何一筆資料的時間格式正確，無法繼續分析。請檢查 'Time2' 欄位。\")\n",
    "    # 如果在這裡就出錯，直接停止\n",
    "    exit()\n"
   ]
  }
 ],
 "metadata": {
  "kernelspec": {
   "display_name": "flask",
   "language": "python",
   "name": "python3"
  },
  "language_info": {
   "codemirror_mode": {
    "name": "ipython",
    "version": 3
   },
   "file_extension": ".py",
   "mimetype": "text/x-python",
   "name": "python",
   "nbconvert_exporter": "python",
   "pygments_lexer": "ipython3",
   "version": "3.11.11"
  }
 },
 "nbformat": 4,
 "nbformat_minor": 2
}
