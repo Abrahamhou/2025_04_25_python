{
 "cells": [
  {
   "cell_type": "code",
   "execution_count": null,
   "id": "3dd42dfc",
   "metadata": {},
   "outputs": [],
   "source": [
    "students:list = []\n",
    "students.append({\"name\":\"robert\",\n",
    "                 \"chinese\":87,\n",
    "                 \"english\":92,\n",
    "                 \"math\":99})"
   ]
  }
 ],
 "metadata": {
  "kernelspec": {
   "display_name": ".venv",
   "language": "python",
   "name": "python3"
  },
  "language_info": {
   "name": "python",
   "version": "3.13.3"
  }
 },
 "nbformat": 4,
 "nbformat_minor": 5
}
