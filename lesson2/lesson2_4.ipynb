{
 "cells": [
  {
   "cell_type": "code",
   "execution_count": 1,
   "id": "d477cbd0",
   "metadata": {},
   "outputs": [],
   "source": [
    "weeks:dict = {\"monday\":1,\n",
    "              \"tuesday\":2,\n",
    "               \"wednesday\":3,\n",
    "               \"thursday\":4,\n",
    "               \"friday\":5,\n",
    "               \"saturday\":6,\n",
    "               \"sunday\":7}"
   ]
  },
  {
   "cell_type": "code",
   "execution_count": 2,
   "id": "dc12ea5b",
   "metadata": {},
   "outputs": [],
   "source": [
    "weeks.get('thursday')\n",
    "weeks.get('wednesday')\n",
    "weeks.get('eight')"
   ]
  },
  {
   "cell_type": "code",
   "execution_count": 3,
   "id": "fbc6aacc",
   "metadata": {},
   "outputs": [
    {
     "data": {
      "text/plain": [
       "['monday', 'tuesday', 'wednesday', 'thursday', 'friday', 'saturday', 'sunday']"
      ]
     },
     "execution_count": 3,
     "metadata": {},
     "output_type": "execute_result"
    }
   ],
   "source": [
    "list(weeks.keys())"
   ]
  },
  {
   "cell_type": "code",
   "execution_count": 4,
   "id": "2db1908d",
   "metadata": {},
   "outputs": [
    {
     "data": {
      "text/plain": [
       "[1, 2, 3, 4, 5, 6, 7]"
      ]
     },
     "execution_count": 4,
     "metadata": {},
     "output_type": "execute_result"
    }
   ],
   "source": [
    "list(weeks.values())"
   ]
  },
  {
   "cell_type": "code",
   "execution_count": null,
   "id": "219691cf",
   "metadata": {},
   "outputs": [
    {
     "name": "stdout",
     "output_type": "stream",
     "text": [
      "monday:1\n",
      "tuesday:2\n",
      "wednesday:3\n",
      "thursday:4\n",
      "friday:5\n",
      "saturday:6\n",
      "sunday:7\n"
     ]
    },
    {
     "ename": "",
     "evalue": "",
     "output_type": "error",
     "traceback": [
      "\u001b[1;31m在目前儲存格或上一個儲存格中執行程式碼時，Kernel 已損毀。\n",
      "\u001b[1;31m請檢閱儲存格中的程式碼，找出失敗的可能原因。\n",
      "\u001b[1;31m如需詳細資訊，請按一下<a href='https://aka.ms/vscodeJupyterKernelCrash'>這裡</a>。\n",
      "\u001b[1;31m如需詳細資料，請檢視 Jupyter <a href='command:jupyter.viewOutput'>記錄</a>。"
     ]
    }
   ],
   "source": [
    "for (key, value) in weeks.items():\n",
    "    print(key,value,sep=\":\")"
   ]
  }
 ],
 "metadata": {
  "kernelspec": {
   "display_name": ".venv",
   "language": "python",
   "name": "python3"
  },
  "language_info": {
   "codemirror_mode": {
    "name": "ipython",
    "version": 3
   },
   "file_extension": ".py",
   "mimetype": "text/x-python",
   "name": "python",
   "nbconvert_exporter": "python",
   "pygments_lexer": "ipython3",
   "version": "3.13.3"
  }
 },
 "nbformat": 4,
 "nbformat_minor": 5
}
