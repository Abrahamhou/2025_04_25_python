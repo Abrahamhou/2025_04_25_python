{
 "cells": [
  {
   "cell_type": "markdown",
   "metadata": {},
   "source": [
    "1. **請讀取names.txt**\n",
    "2. **將文字儲存於list內**\n",
    "3. **每次執行可以亂數取出3個姓名**"
   ]
  },
  {
   "cell_type": "code",
   "execution_count": null,
   "metadata": {
    "vscode": {
     "languageId": "plaintext"
    }
   },
   "outputs": [],
   "source": []
  },
  {
   "cell_type": "code",
   "execution_count": null,
   "metadata": {
    "vscode": {
     "languageId": "plaintext"
    }
   },
   "outputs": [],
   "source": [
    "import random\n",
    "\n",
    "# 1. 讀取 names.txt 檔案，將每一行姓名存入 list\n",
    "with open('names.txt', 'r', encoding='utf-8') as f:\n",
    "    names = [line.strip() for line in f if line.strip()]\n",
    "\n",
    "# 2. 隨機取出3個不重複的姓名\n",
    "random_names = random.sample(names, 3)\n",
    "\n",
    "# 3. 輸出結果\n",
    "print(\"本次隨機抽取的3個姓名：\")\n",
    "for name in random_names:\n",
    "    print(name)\n"
   ]
  }
 ],
 "metadata": {
  "language_info": {
   "name": "python"
  }
 },
 "nbformat": 4,
 "nbformat_minor": 2
}
