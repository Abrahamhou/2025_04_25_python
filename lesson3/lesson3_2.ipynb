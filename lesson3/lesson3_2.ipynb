{
 "cells": [
  {
   "cell_type": "markdown",
   "id": "c3613803",
   "metadata": {},
   "source": [
    "# 下載internet的資源\n",
    "- 使用第3方套件(requests)"
   ]
  },
  {
   "cell_type": "code",
   "execution_count": 2,
   "id": "76f53e8a",
   "metadata": {},
   "outputs": [
    {
     "ename": "ModuleNotFoundError",
     "evalue": "No module named 'requests'",
     "output_type": "error",
     "traceback": [
      "\u001b[31m---------------------------------------------------------------------------\u001b[39m",
      "\u001b[31mModuleNotFoundError\u001b[39m                       Traceback (most recent call last)",
      "\u001b[36mCell\u001b[39m\u001b[36m \u001b[39m\u001b[32mIn[2]\u001b[39m\u001b[32m, line 1\u001b[39m\n\u001b[32m----> \u001b[39m\u001b[32m1\u001b[39m \u001b[38;5;28;01mimport\u001b[39;00m\u001b[38;5;250m \u001b[39m\u001b[34;01mrequests\u001b[39;00m\n\u001b[32m      2\u001b[39m \u001b[38;5;28;01mfrom\u001b[39;00m\u001b[38;5;250m \u001b[39m\u001b[34;01mrequests\u001b[39;00m\u001b[38;5;250m \u001b[39m\u001b[38;5;28;01mimport\u001b[39;00m Response\n\u001b[32m      3\u001b[39m \u001b[38;5;28;01mimport\u001b[39;00m\u001b[38;5;250m \u001b[39m\u001b[34;01mcsv\u001b[39;00m\n",
      "\u001b[31mModuleNotFoundError\u001b[39m: No module named 'requests'"
     ]
    }
   ],
   "source": [
    "import requests\n",
    "from requests import Response\n",
    "import csv\n",
    "from io import StringIO\n",
    "\n",
    "url = 'https://data.moenv.gov.tw/api/v2/aqx_p_432?api_key=540e2ca4-41e1-4186-8497-fdd67024ac44&limit=1000&sort=ImportDate desc&format=CSV'\n",
    "response:Response = requests.get(url)\n",
    "file = StringIO(response.text) #class初始化\n",
    "csv_reader = csv.DictReader(file) #class初始化\n",
    "aqi:list = list(csv_reader) #class初始化"
   ]
  },
  {
   "cell_type": "code",
   "execution_count": 7,
   "id": "2ce63455",
   "metadata": {},
   "outputs": [
    {
     "name": "stdout",
     "output_type": "stream",
     "text": [
      "{'sitename': '永和', 'county': '新北市', 'aqi': '58', 'pollutant': '細懸浮微粒', 'status': '普通', 'so2': '0.5', 'co': '0.3', 'o3': '48', 'o3_8hr': '48', 'pm10': '20', 'pm2.5': '15', 'no2': '6', 'nox': '8.5', 'no': '1.6', 'wind_speed': '1.2', 'wind_direc': '155', 'publishtime': '2025/05/08 16:00:00', 'co_8hr': '0.3', 'pm2.5_avg': '15.2', 'pm10_avg': '25', 'so2_avg': '0', 'longitude': '121.516306', 'latitude': '25.017', 'siteid': '70'}\n"
     ]
    }
   ],
   "source": [
    "for item in aqi:\n",
    "    if item['sitename'] == '永和':\n",
    "        print(item)"
   ]
  },
  {
   "cell_type": "code",
   "execution_count": 10,
   "id": "410a63ad",
   "metadata": {},
   "outputs": [
    {
     "data": {
      "text/plain": [
       "list"
      ]
     },
     "execution_count": 10,
     "metadata": {},
     "output_type": "execute_result"
    }
   ],
   "source": [
    "type([1,2,3,4])\n",
    "type(list())"
   ]
  }
 ],
 "metadata": {
  "kernelspec": {
   "display_name": "flask",
   "language": "python",
   "name": "python3"
  },
  "language_info": {
   "codemirror_mode": {
    "name": "ipython",
    "version": 3
   },
   "file_extension": ".py",
   "mimetype": "text/x-python",
   "name": "python",
   "nbconvert_exporter": "python",
   "pygments_lexer": "ipython3",
   "version": "3.10.16"
  }
 },
 "nbformat": 4,
 "nbformat_minor": 5
}
